{
  "nbformat": 4,
  "nbformat_minor": 0,
  "metadata": {
    "accelerator": "TPU",
    "colab": {
      "name": "training.ipynb",
      "provenance": [],
      "collapsed_sections": []
    },
    "kernelspec": {
      "display_name": "Python 3",
      "language": "python",
      "name": "python3"
    },
    "language_info": {
      "codemirror_mode": {
        "name": "ipython",
        "version": 3
      },
      "file_extension": ".py",
      "mimetype": "text/x-python",
      "name": "python",
      "nbconvert_exporter": "python",
      "pygments_lexer": "ipython3",
      "version": "3.7.6"
    }
  },
  "cells": [
    {
      "cell_type": "code",
      "metadata": {
        "colab_type": "code",
        "id": "kSChpBmA53GI",
        "cellView": "both",
        "colab": {}
      },
      "source": [
        "%tensorflow_version 2.x\n",
        "#!pip3 install --upgrade pip\n",
        "#!pip install -qU t5\n",
        "!pip install -q git+https://github.com/google-research/text-to-text-transfer-transformer.git@1e269e72a981fde4ea64a88a0a0d8cc88871e20a #temporary fix\n",
        "\n",
        "\n",
        "import functools\n",
        "import os\n",
        "import time\n",
        "import warnings\n",
        "warnings.filterwarnings(\"ignore\", category=DeprecationWarning)\n",
        "\n",
        "import tensorflow.compat.v1 as tf\n",
        "import tensorflow_datasets as tfds\n",
        "\n",
        "import t5\n",
        "\n",
        "#Set the base dir(Google cloud bucket)\n",
        "\n",
        "BASE_DIR = \"gs://bucket_thesis_dl4se\" \n",
        "\n",
        "if not BASE_DIR or BASE_DIR == \"gs://\":\n",
        "  raise ValueError(\"You must enter a BASE_DIR.\")\n",
        "DATA_DIR = os.path.join(BASE_DIR, \"data\")\n",
        "MODELS_DIR = os.path.join(BASE_DIR, \"models\")\n",
        "ON_CLOUD = True\n",
        "\n",
        "\n",
        "if ON_CLOUD:\n",
        "  import tensorflow_gcs_config\n",
        "  from google.colab import auth\n",
        "  # Set credentials for GCS reading/writing from Colab and TPU.\n",
        "  TPU_TOPOLOGY = \"2x2\"\n",
        "  try:\n",
        "    tpu = tf.distribute.cluster_resolver.TPUClusterResolver()  # TPU detection\n",
        "    TPU_ADDRESS = tpu.get_master()\n",
        "    print('Running on TPU:', TPU_ADDRESS)\n",
        "  except ValueError:\n",
        "    raise BaseException('ERROR: Not connected to a TPU runtime; please see the previous cell in this notebook for instructions!')\n",
        "  auth.authenticate_user()\n",
        "  tf.config.experimental_connect_to_host(TPU_ADDRESS)\n",
        "  tensorflow_gcs_config.configure_gcs_from_colab_auth()\n",
        "\n",
        "tf.disable_v2_behavior()\n",
        "\n",
        "# Improve logging.\n",
        "from contextlib import contextmanager\n",
        "import logging as py_logging\n",
        "\n",
        "if ON_CLOUD:\n",
        "  tf.get_logger().propagate = False\n",
        "  py_logging.root.setLevel('INFO')\n",
        "\n",
        "@contextmanager\n",
        "def tf_verbosity_level(level):\n",
        "  log_level = tf.logging.get_verbosity()\n",
        "  tf.logging.set_verbosity(level)\n",
        "  yield\n",
        "  tf.logging.set_verbosity(og_level)"
      ],
      "execution_count": null,
      "outputs": []
    },
    {
      "cell_type": "code",
      "metadata": {
        "colab_type": "code",
        "id": "p4UHw7Yo6GCK",
        "cellView": "both",
        "colab": {}
      },
      "source": [
        "#Set the path of sentencepiece model and vocab files\n",
        "\n",
        "vocab_model_path = 'gs://bucket_thesis_dl4se/data/vocab/dl4se_sentencepiece.model'\n",
        "vocab_path = 'gs://bucket_thesis_dl4se/data/vocab/dl4se_sentencepiece.vocab'\n",
        "\n",
        "DATA_DIR = os.path.join(BASE_DIR, \"data/datasets/UNSUPERVISED/pre-training\") \n",
        "\n",
        "nq_tsv_path = {\n",
        "    \"train\": os.path.join(DATA_DIR, \"unsupervised_training.tsv\"),\n",
        "}"
      ],
      "execution_count": null,
      "outputs": []
    },
    {
      "cell_type": "code",
      "metadata": {
        "colab_type": "code",
        "id": "ncBkh1fH7yh0",
        "colab": {}
      },
      "source": [
        "from t5.data.utils import Feature\n",
        "import t5.data.preprocessors\n",
        "from t5.data import sentencepiece_vocabulary\n",
        "\n",
        "TaskRegistry = t5.data.TaskRegistry\n",
        "TfdsTask = t5.data.TfdsTask\n",
        "\n",
        "DEFAULT_EXTRA_IDS = 100\n",
        "\n",
        "def get_default_vocabulary():\n",
        "  return sentencepiece_vocabulary.SentencePieceVocabulary(\n",
        "      vocab_model_path, DEFAULT_EXTRA_IDS)\n",
        "\n",
        "FEATURES = {\n",
        "    \"inputs\": Feature(vocabulary=get_default_vocabulary(), add_eos=True),\n",
        "    \"targets\": Feature(vocabulary=get_default_vocabulary(), add_eos=True)\n",
        "}\n"
      ],
      "execution_count": null,
      "outputs": []
    },
    {
      "cell_type": "code",
      "metadata": {
        "colab_type": "code",
        "id": "vU-I3XE5SLxE",
        "colab": {
          "base_uri": "https://localhost:8080/",
          "height": 139
        },
        "outputId": "8d86e25d-b8fc-4f1d-cb99-6a1b6ebac4c6"
      },
      "source": [
        "def nq_dataset_fn(split, shuffle_files=False):\n",
        "  # We only have one file for each split.\n",
        "  del shuffle_files\n",
        "\n",
        "  # Load lines from the text file as examples.\n",
        "  ds = tf.data.TextLineDataset(nq_tsv_path[split])\n",
        "  ds = ds.map(\n",
        "      functools.partial(tf.io.decode_csv, record_defaults=[\"string\"],\n",
        "                        field_delim=\"\\t\", use_quote_delim=True),\n",
        "      num_parallel_calls=tf.data.experimental.AUTOTUNE)\n",
        "  \n",
        "  ds = ds.map(lambda *ex: dict(zip([\"text\"], ex)))\n",
        "  return ds\n",
        "\n",
        "print(\"A few raw train examples...\")\n",
        "for ex in tfds.as_numpy(nq_dataset_fn(\"train\").take(5)):\n",
        "  print(ex)"
      ],
      "execution_count": null,
      "outputs": [
        {
          "output_type": "stream",
          "text": [
            "A few raw train examples...\n",
            "{'text': b'@ override public void execute ( ) throws buildexception { if ( ! stringutils . hastext ( this . refid ) ) { throw new buildexception ( \"@refid has no text\" ) ; } getproject ( ) . addreference ( this . refid , getclass ( ) . getclassloader ( ) ) ; }'}\n",
            "{'text': b'private void run ( string [ ] args ) { restarter . initialize ( args , restartinitializer . none ) ; springapplication application = new springapplication ( remoteclientconfiguration . class ) ; application . setwebapplicationtype ( webapplicationtype . none ) ; application . setbanner ( getbanner ( ) ) ; application . setinitializers ( getinitializers ( ) ) ; application . setlisteners ( getlisteners ( ) ) ; application . run ( args ) ; waitindefinitely ( ) ; }'}\n",
            "{'text': b'private collection < applicationcontextinitializer < ? > > getinitializers ( ) { list < applicationcontextinitializer < ? > > initializers = new arraylist <> ( ) ; initializers . add ( new restartscopeinitializer ( ) ) ; return initializers ; }'}\n",
            "{'text': b'private collection < applicationlistener < ? > > getlisteners ( ) { list < applicationlistener < ? > > listeners = new arraylist <> ( ) ; listeners . add ( new ansioutputapplicationlistener ( ) ) ; listeners . add ( new configfileapplicationlistener ( ) ) ; listeners . add ( new classpathloggingapplicationlistener ( ) ) ; listeners . add ( new loggingapplicationlistener ( ) ) ; listeners . add ( new remoteurlpropertyextractor ( ) ) ; return listeners ; }'}\n",
            "{'text': b'@ conditionalonmissingbean @ bean ( kafkastreamsdefaultconfiguration . default_streams_config_bean_name ) public kafkastreamsconfiguration defaultkafkastreamsconfig ( environment environment ) { map < string , object > streamsproperties = this . properties . buildstreamsproperties ( ) ; if ( this . properties . getstreams ( ) . getapplicationid ( ) == null ) { string applicationname = environment . getproperty ( \"spring.application.name\" ) ; if ( applicationname == null ) { throw new invalidconfigurationpropertyvalueexception ( \"spring.kafka.streams.application-id\" , null , \"this property is mandatory and fallback \\'spring.application.name\\' is not set either.\" ) ; } streamsproperties . put ( streamsconfig . application_id_config , applicationname ) ; } return new kafkastreamsconfiguration ( streamsproperties ) ; }'}\n"
          ],
          "name": "stdout"
        }
      ]
    },
    {
      "cell_type": "code",
      "metadata": {
        "colab_type": "code",
        "id": "Pq_ljAs373oK",
        "colab": {}
      },
      "source": [
        "#Create a new training task\n",
        "\n",
        "t5.data.TaskRegistry.remove('unsupervised_training')\n",
        "t5.data.TaskRegistry.add(\n",
        "    \"unsupervised_training\",\n",
        "    dataset_fn=nq_dataset_fn,\n",
        "    splits=[\"train\"],\n",
        "    output_features=FEATURES,\n",
        "    text_preprocessor=functools.partial(\n",
        "        t5.data.preprocessors.rekey, key_map={\"inputs\": None, \"targets\": \"text\"}),\n",
        "    metric_fns=[])"
      ],
      "execution_count": null,
      "outputs": []
    },
    {
      "cell_type": "code",
      "metadata": {
        "colab_type": "code",
        "id": "XFAAvLfG7528",
        "colab": {}
      },
      "source": [
        "#Get a few preprocessed training examples...\n",
        "\n",
        "nq_task = t5.data.TaskRegistry.get(\"unsupervised_training\")\n",
        "ds = nq_task.get_dataset(split=\"train\", sequence_length={\"inputs\": 512, \"targets\": 512})\n",
        "print(\"A few preprocessed training examples...\")\n",
        "for ex in tfds.as_numpy(ds.take(5)):\n",
        "  print(ex)"
      ],
      "execution_count": null,
      "outputs": []
    },
    {
      "cell_type": "code",
      "metadata": {
        "colab_type": "code",
        "id": "YgvnbVWU78nz",
        "colab": {}
      },
      "source": [
        "from mesh_tensorflow.transformer.learning_rate_schedules import learning_rate_schedule_noam\n",
        "\n",
        "#See https://github.com/google-research/text-to-text-transfer-transformer if you want to scale up the model\n",
        "MODEL_SIZE = \"small\"  \n",
        "\n",
        "#Set the folder which contains checkpoint and so on..\n",
        "MODEL_DIR = 'gs://bucket_thesis_dl4se/models/'\n",
        "\n",
        "\n",
        "model_parallelism, train_batch_size, keep_checkpoint_max = {\n",
        "    \"small\": (1, 256, 16),\n",
        "    \"base\": (2, 128, 8),\n",
        "    \"large\": (8, 64, 4),\n",
        "    \"3B\": (8, 16, 1),\n",
        "    \"11B\": (8, 16, 1)}[MODEL_SIZE]\n",
        "\n",
        "\n",
        "tf.io.gfile.makedirs(MODEL_DIR)\n",
        "\n",
        "model = t5.models.MtfModel(\n",
        "    model_dir=MODEL_DIR,\n",
        "    tpu=TPU_ADDRESS,\n",
        "    tpu_topology=TPU_TOPOLOGY,\n",
        "    model_parallelism=model_parallelism,\n",
        "    batch_size=train_batch_size,\n",
        "    sequence_length={\"inputs\": 512, \"targets\": 512},\n",
        "    learning_rate_schedule = learning_rate_schedule_noam,\n",
        "    save_checkpoints_steps=5000,\n",
        "    keep_checkpoint_max=keep_checkpoint_max if ON_CLOUD else None\n",
        ")"
      ],
      "execution_count": null,
      "outputs": []
    },
    {
      "cell_type": "code",
      "metadata": {
        "colab_type": "code",
        "id": "tmdx3v9z8DY6",
        "colab": {}
      },
      "source": [
        "# Load and parse the configuration file for T5 small network.\n",
        "# You can find the file in the replication package\n",
        "\n",
        "PATH_GIN_FILE='gs://bucket_thesis_dl4se/data/config/train_t5_small.gin'\n",
        "import gin\n",
        "with gin.unlock_config():\n",
        "      gin.parse_config_file(PATH_GIN_FILE)\n",
        "print('\\n'.join(gin.config_str().split('\\n')))"
      ],
      "execution_count": null,
      "outputs": []
    },
    {
      "cell_type": "code",
      "metadata": {
        "colab_type": "code",
        "id": "n0iT5fJ-8FeY",
        "colab": {}
      },
      "source": [
        "TRAIN_STEPS = 500000\n",
        "model.train(\"unsupervised_training\", steps=TRAIN_STEPS)"
      ],
      "execution_count": null,
      "outputs": []
    },
    {
      "cell_type": "code",
      "metadata": {
        "colab_type": "code",
        "id": "iBse6URh8X3U",
        "colab": {}
      },
      "source": [
        ""
      ],
      "execution_count": null,
      "outputs": []
    },
    {
      "cell_type": "code",
      "metadata": {
        "colab_type": "code",
        "id": "vVoxuPBx4kt4",
        "colab": {}
      },
      "source": [
        ""
      ],
      "execution_count": null,
      "outputs": []
    }
  ]
}