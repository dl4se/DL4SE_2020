{
  "nbformat": 4,
  "nbformat_minor": 0,
  "metadata": {
    "accelerator": "TPU",
    "colab": {
      "name": "fine-tuning.ipynb",
      "provenance": [],
      "collapsed_sections": [],
      "machine_shape": "hm"
    },
    "kernelspec": {
      "display_name": "Python 3",
      "language": "python",
      "name": "python3"
    },
    "language_info": {
      "codemirror_mode": {
        "name": "ipython",
        "version": 3
      },
      "file_extension": ".py",
      "mimetype": "text/x-python",
      "name": "python",
      "nbconvert_exporter": "python",
      "pygments_lexer": "ipython3",
      "version": "3.7.6"
    }
  },
  "cells": [
    {
      "cell_type": "code",
      "metadata": {
        "colab_type": "code",
        "id": "2h1MRzBLtex2",
        "colab": {}
      },
      "source": [
        "%tensorflow_version 2.x\n",
        "#!pip3 install --upgrade pip\n",
        "#!pip install -qU t5\n",
        "!pip install -q git+https://github.com/google-research/text-to-text-transfer-transformer.git@1e269e72a981fde4ea64a88a0a0d8cc88871e20a #temporary fix\n",
        "\n",
        "import functools\n",
        "import os\n",
        "import time\n",
        "import warnings\n",
        "warnings.filterwarnings(\"ignore\", category=DeprecationWarning)\n",
        "\n",
        "import tensorflow.compat.v1 as tf\n",
        "import tensorflow_datasets as tfds\n",
        "\n",
        "import t5\n",
        "\n",
        "#Set the base dir(Google cloud bucket)\n",
        "BASE_DIR = \"gs://\" \n",
        "\n",
        "if not BASE_DIR or BASE_DIR == \"gs://\":\n",
        "  raise ValueError(\"You must enter a BASE_DIR.\")\n",
        "DATA_DIR = os.path.join(BASE_DIR, \"data\")\n",
        "MODELS_DIR = os.path.join(BASE_DIR, \"models\")\n",
        "ON_CLOUD = True\n",
        "\n",
        "\n",
        "if ON_CLOUD:\n",
        "  import tensorflow_gcs_config\n",
        "  from google.colab import auth\n",
        "  # Set credentials for GCS reading/writing from Colab and TPU.\n",
        "  TPU_TOPOLOGY = \"2x2\"\n",
        "  try:\n",
        "    tpu = tf.distribute.cluster_resolver.TPUClusterResolver()  # TPU detection\n",
        "    TPU_ADDRESS = tpu.get_master()\n",
        "    print('Running on TPU:', TPU_ADDRESS)\n",
        "  except ValueError:\n",
        "    raise BaseException('ERROR: Not connected to a TPU runtime; please see the previous cell in this notebook for instructions!')\n",
        "  auth.authenticate_user()\n",
        "  tf.config.experimental_connect_to_host(TPU_ADDRESS)\n",
        "  tensorflow_gcs_config.configure_gcs_from_colab_auth()\n",
        "\n",
        "tf.disable_v2_behavior()\n",
        "\n",
        "# Improve logging.\n",
        "from contextlib import contextmanager\n",
        "import logging as py_logging\n",
        "\n",
        "if ON_CLOUD:\n",
        "  tf.get_logger().propagate = False\n",
        "  py_logging.root.setLevel('INFO')\n",
        "\n",
        "@contextmanager\n",
        "def tf_verbosity_level(level):\n",
        "  og_level = tf.logging.get_verbosity()\n",
        "  tf.logging.set_verbosity(level)\n",
        "  yield\n",
        "  tf.logging.set_verbosity(og_level)"
      ],
      "execution_count": null,
      "outputs": []
    },
    {
      "cell_type": "code",
      "metadata": {
        "colab_type": "code",
        "id": "glLJUm1dxIiH",
        "colab": {}
      },
      "source": [
        "from t5.data import postprocessors as t5_postprocessors\n",
        "from t5.data.utils import Feature\n",
        "from t5.data import sentencepiece_vocabulary\n",
        "\n",
        "# Set the path of sentencepiece model and vocab files\n",
        "# Must be the same used for the pre-trained phase\n",
        "vocab_model_path = 'gs://.....model'\n",
        "vocab_path = 'gs://.....vocab'\n",
        "\n",
        "\n",
        "TaskRegistry = t5.data.TaskRegistry\n",
        "TfdsTask = t5.data.TfdsTask\n",
        "\n",
        "DEFAULT_EXTRA_IDS = 100\n",
        "\n",
        "def get_default_vocabulary():\n",
        "  return sentencepiece_vocabulary.SentencePieceVocabulary(\n",
        "      vocab_model_path, DEFAULT_EXTRA_IDS)\n",
        "\n",
        "FEATURES = {\n",
        "    \"inputs\": Feature(vocabulary=get_default_vocabulary(), add_eos=True),\n",
        "    \"targets\": Feature(vocabulary=get_default_vocabulary(), add_eos=True)\n",
        "}"
      ],
      "execution_count": null,
      "outputs": []
    },
    {
      "cell_type": "code",
      "metadata": {
        "colab_type": "code",
        "id": "_-B3_th9eP5y",
        "colab": {}
      },
      "source": [
        "# Dataset sizes:\n",
        "#   - training: 92476\n",
        "#   - eval:     11560\n",
        "#   - test:     11559   \n",
        "\n",
        "\n",
        "\n",
        "DATA_DIR = os.path.join(BASE_DIR, \"data/datasets/finetuning-ds/tp_ident\")\n",
        "\n",
        "\n",
        "nq_tsv_path_mutant = {\n",
        "    \"train\": os.path.join(DATA_DIR, \"training.tsv\"),\n",
        "    \"validation\": os.path.join(DATA_DIR, \"test.tsv\")\n",
        "}\n",
        "\n",
        "num_nq_examples_mutants = dict(train=92476, validation=11559)"
      ],
      "execution_count": null,
      "outputs": []
    },
    {
      "cell_type": "code",
      "metadata": {
        "colab_type": "code",
        "id": "K0NTLbyXvkCs",
        "colab": {}
      },
      "source": [
        "def nq_dataset_mutant(split, shuffle_files=False):\n",
        "  # We only have one file for each split.\n",
        "  del shuffle_files\n",
        "\n",
        "  # Load lines from the text file as examples.\n",
        "  ds = tf.data.TextLineDataset(nq_tsv_path_mutant[split])\n",
        "  ds = ds.map(\n",
        "      functools.partial(tf.io.decode_csv, record_defaults=[\"string\",\"string\"],\n",
        "                        field_delim=\"\\t\", use_quote_delim=False),\n",
        "      num_parallel_calls=tf.data.experimental.AUTOTUNE)\n",
        "  \n",
        "  ds = ds.map(lambda *ex: dict(zip([\"fixed\", \"buggy\"], ex)))\n",
        "  return ds\n",
        "\n",
        "print(\"A few raw valid examples...\")\n",
        "for ex in tfds.as_numpy(nq_dataset_mutant(\"validation\").take(5)):\n",
        "  print(ex)\n"
      ],
      "execution_count": null,
      "outputs": []
    },
    {
      "cell_type": "code",
      "metadata": {
        "colab_type": "code",
        "id": "4bJZPQgjxKZ1",
        "colab": {}
      },
      "source": [
        "def mutant_preprocessing(ds):\n",
        "  \n",
        "  def to_inputs_and_targets(ex):\n",
        "\n",
        "        x_input = tf.strings.lower(ex['fixed'])\n",
        "        y_label = tf.strings.lower(ex['buggy']) \n",
        "        inputs = tf.strings.join(['generate mutant: ' + x_input], separator=' ')\n",
        "        class_label = tf.strings.join([y_label], separator=' ')\n",
        "        return {'inputs': inputs, 'targets': class_label }\n",
        "    \n",
        "  return ds.map(to_inputs_and_targets, \n",
        "                num_parallel_calls=tf.data.experimental.AUTOTUNE)"
      ],
      "execution_count": null,
      "outputs": []
    },
    {
      "cell_type": "code",
      "metadata": {
        "colab_type": "code",
        "id": "h3jAg8Zhx_Ep",
        "colab": {}
      },
      "source": [
        "t5.data.TaskRegistry.remove('mutants')\n",
        "t5.data.TaskRegistry.add(\n",
        "    \"mutants\",\n",
        "    dataset_fn=nq_dataset_mutant,\n",
        "    splits=[\"train\", \"validation\"],\n",
        "    text_preprocessor=[mutant_preprocessing],\n",
        "    output_features=FEATURES,\n",
        "    metric_fns=[t5.evaluation.metrics.bleu],\n",
        "    num_input_examples=num_nq_examples_mutants\n",
        ")"
      ],
      "execution_count": null,
      "outputs": []
    },
    {
      "cell_type": "code",
      "metadata": {
        "colab_type": "code",
        "id": "e71p9JIFyYHm",
        "colab": {}
      },
      "source": [
        "nq_task = t5.data.TaskRegistry.get(\"mutants\")\n",
        "ds = nq_task.get_dataset(split=\"train\", sequence_length={\"inputs\": 512, \"targets\": 512})\n",
        "print(\"A few preprocessed training examples...\")\n",
        "for ex in tfds.as_numpy(ds.take(5)):\n",
        "  print(ex)\n",
        "\n",
        "#FIRST TASK CREATED"
      ],
      "execution_count": null,
      "outputs": []
    },
    {
      "cell_type": "code",
      "metadata": {
        "colab_type": "code",
        "id": "gDFnQ3pAygLe",
        "colab": {}
      },
      "source": [
        "# Dataset sizes:\n",
        "#   - training: 46680\n",
        "#   - eval:     5835\n",
        "#   - test:     5835  \n",
        "\n",
        "\n",
        "DATA_DIR_1 = os.path.join(BASE_DIR, \"data/datasets/finetuning-ds/small/\")\n",
        "\n",
        "nq_tsv_path_bfp_small = {\n",
        "    \"train\": os.path.join(DATA_DIR_1, \"training.tsv\"),\n",
        "    \"validation\": os.path.join(DATA_DIR_1, \"test.tsv\"),\n",
        "}\n",
        "\n",
        "num_nq_examples_bfp_small = dict(train=46680, validation=5835)"
      ],
      "execution_count": null,
      "outputs": []
    },
    {
      "cell_type": "code",
      "metadata": {
        "colab_type": "code",
        "id": "UNi7HPiOz27q",
        "colab": {}
      },
      "source": [
        "def nq_dataset_bfp_small(split, shuffle_files=False):\n",
        "  # We only have one file for each split.\n",
        "  del shuffle_files\n",
        "\n",
        "  # Load lines from the text file as examples.\n",
        "  ds = tf.data.TextLineDataset(nq_tsv_path_bfp_small[split])\n",
        "  ds = ds.map(\n",
        "      functools.partial(tf.io.decode_csv, record_defaults=[\"string\",\"string\"],\n",
        "                        field_delim=\"\\t\", use_quote_delim=False),\n",
        "      num_parallel_calls=tf.data.experimental.AUTOTUNE)\n",
        "  \n",
        "  ds = ds.map(lambda *ex: dict(zip([\"buggy\", \"fixed\"], ex)))\n",
        "  return ds\n",
        "\n",
        "print(\"A few raw valid examples...\")\n",
        "for ex in tfds.as_numpy(nq_dataset_bfp_small(\"validation\").take(5)):\n",
        "  print(ex)"
      ],
      "execution_count": null,
      "outputs": []
    },
    {
      "cell_type": "code",
      "metadata": {
        "colab_type": "code",
        "id": "VvDAbgNY0B4Y",
        "colab": {}
      },
      "source": [
        "def bfp_preprocessing_small(ds):\n",
        "  \n",
        "  def to_inputs_and_targets(ex):\n",
        "        x_input = tf.strings.lower(ex['buggy'])\n",
        "        y_label = tf.strings.lower(ex['fixed']) \n",
        "        inputs = tf.strings.join(['generate small patch: '  + x_input], separator=' ')\n",
        "        class_label = tf.strings.join([y_label], separator=' ')\n",
        "        return {'inputs': inputs, 'targets': class_label }\n",
        "    \n",
        "  return ds.map(to_inputs_and_targets, \n",
        "                num_parallel_calls=tf.data.experimental.AUTOTUNE)"
      ],
      "execution_count": null,
      "outputs": []
    },
    {
      "cell_type": "code",
      "metadata": {
        "colab_type": "code",
        "id": "-Mm6AQfw0INC",
        "colab": {}
      },
      "source": [
        "TaskRegistry = t5.data.TaskRegistry\n",
        "TfdsTask = t5.data.TfdsTask\n",
        "\n",
        "t5.data.TaskRegistry.remove('bfp_small')\n",
        "t5.data.TaskRegistry.add(\n",
        "    \"bfp_small\",\n",
        "    dataset_fn=nq_dataset_bfp_small,\n",
        "    splits=[\"train\", \"validation\"],\n",
        "    text_preprocessor=[bfp_preprocessing_small],\n",
        "    output_features=FEATURES,\n",
        "    metric_fns=[t5.evaluation.metrics.accuracy],\n",
        "    num_input_examples = num_nq_examples_bfp_small\n",
        ")\n"
      ],
      "execution_count": null,
      "outputs": []
    },
    {
      "cell_type": "code",
      "metadata": {
        "colab_type": "code",
        "id": "qnf25qt10Wkl",
        "colab": {}
      },
      "source": [
        "nq_task = t5.data.TaskRegistry.get(\"bfp_small\")\n",
        "ds = nq_task.get_dataset(split=\"train\", sequence_length={\"inputs\": 512, \"targets\": 512})\n",
        "print(\"A few preprocessed training examples...\")\n",
        "for ex in tfds.as_numpy(ds.take(5)):\n",
        "  print(ex)\n",
        "\n",
        "#SECOND TASK CREATED"
      ],
      "execution_count": null,
      "outputs": []
    },
    {
      "cell_type": "code",
      "metadata": {
        "colab_type": "code",
        "id": "dRy5zq7N37vI",
        "colab": {}
      },
      "source": [
        "# Dataset sizes:\n",
        "#   - training: 52364\n",
        "#   - eval:     6546\n",
        "#   - test:     6545  \n",
        "\n",
        "DATA_DIR_1 = os.path.join(BASE_DIR, \"data/datasets/finetuning-ds/medium/\")\n",
        "\n",
        "\n",
        "nq_tsv_path_bfp_medium = {\n",
        "    \"train\": os.path.join(DATA_DIR_1, \"training.tsv\"),\n",
        "    \"validation\": os.path.join(DATA_DIR_1, \"test.tsv\"),\n",
        "}\n",
        "\n",
        "num_nq_examples_bfp_medium = dict(train=52364, validation=6545)"
      ],
      "execution_count": null,
      "outputs": []
    },
    {
      "cell_type": "code",
      "metadata": {
        "colab_type": "code",
        "id": "ltV-7-gr372M",
        "colab": {}
      },
      "source": [
        "def nq_dataset_bfp_medium(split, shuffle_files=False):\n",
        "  # We only have one file for each split.\n",
        "  del shuffle_files\n",
        "\n",
        "  # Load lines from the text file as examples.\n",
        "  ds = tf.data.TextLineDataset(nq_tsv_path_bfp_medium[split])\n",
        "  ds = ds.map(\n",
        "      functools.partial(tf.io.decode_csv, record_defaults=[\"string\",\"string\"],\n",
        "                        field_delim=\"\\t\", use_quote_delim=False),\n",
        "      num_parallel_calls=tf.data.experimental.AUTOTUNE)\n",
        "  \n",
        "  ds = ds.map(lambda *ex: dict(zip([\"buggy\", \"fixed\"], ex)))\n",
        "  return ds\n",
        "\n",
        "print(\"A few raw valid examples...\")\n",
        "for ex in tfds.as_numpy(nq_dataset_bfp_medium(\"validation\").take(5)):\n",
        "  print(ex)"
      ],
      "execution_count": null,
      "outputs": []
    },
    {
      "cell_type": "code",
      "metadata": {
        "id": "ec-en0pGtOHr",
        "colab_type": "code",
        "colab": {}
      },
      "source": [
        "def bfp_preprocessing_medium(ds):\n",
        "  \n",
        "  def to_inputs_and_targets(ex):\n",
        "        x_input = tf.strings.lower(ex['buggy'])\n",
        "        y_label = tf.strings.lower(ex['fixed']) \n",
        "        inputs = tf.strings.join(['generate medium patch: '  + x_input], separator=' ')\n",
        "        class_label = tf.strings.join([y_label], separator=' ')\n",
        "        return {'inputs': inputs, 'targets': class_label }\n",
        "    \n",
        "  return ds.map(to_inputs_and_targets, \n",
        "                num_parallel_calls=tf.data.experimental.AUTOTUNE)"
      ],
      "execution_count": null,
      "outputs": []
    },
    {
      "cell_type": "code",
      "metadata": {
        "colab_type": "code",
        "id": "MH4yMlf238DU",
        "colab": {}
      },
      "source": [
        "TaskRegistry = t5.data.TaskRegistry\n",
        "TfdsTask = t5.data.TfdsTask\n",
        "\n",
        "DATASET_TYPE='medium'\n",
        "\n",
        "t5.data.TaskRegistry.remove('bfp_medium')\n",
        "t5.data.TaskRegistry.add(\n",
        "    \"bfp_medium\",\n",
        "    dataset_fn=nq_dataset_bfp_medium,\n",
        "    splits=[\"train\", \"validation\"],\n",
        "    text_preprocessor=[bfp_preprocessing_medium],\n",
        "    output_features=FEATURES,\n",
        "    metric_fns=[t5.evaluation.metrics.accuracy],\n",
        "    num_input_examples = num_nq_examples_bfp_medium\n",
        ")"
      ],
      "execution_count": null,
      "outputs": []
    },
    {
      "cell_type": "code",
      "metadata": {
        "colab_type": "code",
        "id": "BB0BEsPf38Je",
        "colab": {}
      },
      "source": [
        "nq_task = t5.data.TaskRegistry.get(\"bfp_medium\")\n",
        "ds = nq_task.get_dataset(split=\"train\", sequence_length={\"inputs\": 512, \"targets\": 512})\n",
        "print(\"A few preprocessed training examples...\")\n",
        "for ex in tfds.as_numpy(ds.take(5)):\n",
        "  print(ex)\n",
        "\n",
        "#THIRD TASK CREATED"
      ],
      "execution_count": null,
      "outputs": []
    },
    {
      "cell_type": "code",
      "metadata": {
        "colab_type": "code",
        "id": "9QMrB28q75_1",
        "colab": {}
      },
      "source": [
        "# Dataset sizes:\n",
        "#   - training: 126477\n",
        "#   - eval:     15809\n",
        "#   - test:     15810  \n",
        "\n",
        "DATA_DIR_1 = os.path.join(BASE_DIR, \"data/datasets/finetuning-ds/abt/\")\n",
        "\n",
        "nq_tsv_path_assert_abt = {\n",
        "    \"train\": os.path.join(DATA_DIR_1, \"training.tsv\"),\n",
        "    \"validation\": os.path.join(DATA_DIR_1, \"test.tsv\"),\n",
        "}\n",
        "\n",
        "num_nq_examples_assert_abt = dict(train=126477, validation=15810)"
      ],
      "execution_count": null,
      "outputs": []
    },
    {
      "cell_type": "code",
      "metadata": {
        "colab_type": "code",
        "id": "Ga3FXcg98J6y",
        "colab": {}
      },
      "source": [
        "def nq_dataset_assert_abt(split, shuffle_files=False):\n",
        "  # We only have one file for each split.\n",
        "  del shuffle_files\n",
        "\n",
        "  # Load lines from the text file as examples.\n",
        "  ds = tf.data.TextLineDataset(nq_tsv_path_assert_abt[split])\n",
        "  ds = ds.map(\n",
        "      functools.partial(tf.io.decode_csv, record_defaults=[\"string\",\"string\"],\n",
        "                        field_delim=\"\\t\", use_quote_delim=False),\n",
        "      num_parallel_calls=tf.data.experimental.AUTOTUNE)\n",
        "  \n",
        "  ds = ds.map(lambda *ex: dict(zip([\"method\", \"assert\"], ex)))\n",
        "  return ds\n",
        "\n",
        "print(\"A few raw valid examples...\")\n",
        "for idx,ex in enumerate(tfds.as_numpy(nq_dataset_assert_abt(\"validation\").take(5))):\n",
        "  print(ex)"
      ],
      "execution_count": null,
      "outputs": []
    },
    {
      "cell_type": "code",
      "metadata": {
        "colab_type": "code",
        "id": "DVswQpRXobUa",
        "colab": {}
      },
      "source": [
        "def atlas_preprocessing_abt(ds):\n",
        "  \n",
        "  def to_inputs_and_targets(ex):\n",
        "\n",
        "        x_input = tf.strings.lower(ex['method'])\n",
        "        y_label = tf.strings.lower(ex['assert']) \n",
        "        inputs = tf.strings.join(['generate abt assert: ' + x_input], separator=' ')\n",
        "        class_label = tf.strings.join([y_label], separator=' ')\n",
        "        return {'inputs': inputs, 'targets': class_label }\n",
        "    \n",
        "  return ds.map(to_inputs_and_targets, \n",
        "                num_parallel_calls=tf.data.experimental.AUTOTUNE)"
      ],
      "execution_count": null,
      "outputs": []
    },
    {
      "cell_type": "code",
      "metadata": {
        "colab_type": "code",
        "id": "X60ORuG6obqb",
        "colab": {}
      },
      "source": [
        "TaskRegistry = t5.data.TaskRegistry\n",
        "TfdsTask = t5.data.TfdsTask\n",
        "\n",
        "t5.data.TaskRegistry.remove('assert_abt')\n",
        "t5.data.TaskRegistry.add(\n",
        "    \"assert_abt\",\n",
        "    dataset_fn=nq_dataset_assert_abt,\n",
        "    splits=[\"train\", \"validation\"],\n",
        "    text_preprocessor=[atlas_preprocessing_abt],\n",
        "    output_features=FEATURES,\n",
        "    metric_fns=[t5.evaluation.metrics.accuracy],\n",
        "    num_input_examples = num_nq_examples_assert_abt\n",
        ")\n"
      ],
      "execution_count": null,
      "outputs": []
    },
    {
      "cell_type": "code",
      "metadata": {
        "colab_type": "code",
        "id": "vRWg2a4W2Q4y",
        "colab": {}
      },
      "source": [
        "nq_task = t5.data.TaskRegistry.get(\"assert_abt\")\n",
        "ds = nq_task.get_dataset(split=\"train\", sequence_length={\"inputs\": 512, \"targets\": 512})\n",
        "print(\"A few preprocessed training examples...\")\n",
        "for ex in tfds.as_numpy(ds.take(5)):\n",
        "  print(ex)\n",
        "\n",
        "#FOURTH TASK CREATED"
      ],
      "execution_count": null,
      "outputs": []
    },
    {
      "cell_type": "code",
      "metadata": {
        "id": "9Ei8FQGbWJIW",
        "colab_type": "code",
        "colab": {}
      },
      "source": [
        "# Dataset sizes:\n",
        "#   - training: 150523\n",
        "#   - eval:     18816\n",
        "#   - test:     18815  \n",
        "\n",
        "DATA_DIR_1 = os.path.join(BASE_DIR, \"data/datasets/finetuning-ds/raw/\")\n",
        "\n",
        "nq_tsv_path_assert_raw = {\n",
        "    \"train\": os.path.join(DATA_DIR_1, \"training.tsv\"),\n",
        "    \"validation\": os.path.join(DATA_DIR_1, \"test.tsv\"),\n",
        "}\n",
        "\n",
        "num_nq_examples_assert_raw = dict(train=150523, validation=18815)"
      ],
      "execution_count": null,
      "outputs": []
    },
    {
      "cell_type": "code",
      "metadata": {
        "id": "wNkdyts6cYTq",
        "colab_type": "code",
        "colab": {}
      },
      "source": [
        "def nq_dataset_assert_raw(split, shuffle_files=False):\n",
        "  # We only have one file for each split.\n",
        "  del shuffle_files\n",
        "\n",
        "  # Load lines from the text file as examples.\n",
        "  ds = tf.data.TextLineDataset(nq_tsv_path_assert_raw[split])\n",
        "  ds = ds.map(\n",
        "      functools.partial(tf.io.decode_csv, record_defaults=[\"string\",\"string\"],\n",
        "                        field_delim=\"\\t\", use_quote_delim=False),\n",
        "      num_parallel_calls=tf.data.experimental.AUTOTUNE)\n",
        "  \n",
        "  ds = ds.map(lambda *ex: dict(zip([\"method\", \"assert\"], ex)))\n",
        "  return ds\n",
        "\n",
        "print(\"A few raw valid examples...\")\n",
        "for idx,ex in enumerate(tfds.as_numpy(nq_dataset_assert_raw(\"validation\").take(5))):\n",
        "  print(ex)"
      ],
      "execution_count": null,
      "outputs": []
    },
    {
      "cell_type": "code",
      "metadata": {
        "id": "FIIjz6DKtdsk",
        "colab_type": "code",
        "colab": {}
      },
      "source": [
        "def atlas_preprocessing_raw(ds):\n",
        "  \n",
        "  def to_inputs_and_targets(ex):\n",
        "\n",
        "        x_input = tf.strings.lower(ex['method'])\n",
        "        y_label = tf.strings.lower(ex['assert']) \n",
        "        inputs = tf.strings.join(['generate raw assert: ' + x_input], separator=' ')\n",
        "        class_label = tf.strings.join([y_label], separator=' ')\n",
        "        return {'inputs': inputs, 'targets': class_label }\n",
        "    \n",
        "  return ds.map(to_inputs_and_targets, \n",
        "                num_parallel_calls=tf.data.experimental.AUTOTUNE)"
      ],
      "execution_count": null,
      "outputs": []
    },
    {
      "cell_type": "code",
      "metadata": {
        "id": "VBMenVfoWJn_",
        "colab_type": "code",
        "colab": {}
      },
      "source": [
        "TaskRegistry = t5.data.TaskRegistry\n",
        "TfdsTask = t5.data.TfdsTask\n",
        "\n",
        "ASSERT_TYPE='raw'\n",
        "\n",
        "t5.data.TaskRegistry.remove('assert_raw')\n",
        "t5.data.TaskRegistry.add(\n",
        "    \"assert_raw\",\n",
        "    dataset_fn=nq_dataset_assert_raw,\n",
        "    splits=[\"train\", \"validation\"],\n",
        "    text_preprocessor=[atlas_preprocessing_raw],\n",
        "    output_features=FEATURES,\n",
        "    metric_fns=[t5.evaluation.metrics.accuracy],\n",
        "    num_input_examples = num_nq_examples_assert_raw\n",
        ")\n"
      ],
      "execution_count": null,
      "outputs": []
    },
    {
      "cell_type": "code",
      "metadata": {
        "id": "eImeqEV5WJif",
        "colab_type": "code",
        "colab": {}
      },
      "source": [
        "nq_task = t5.data.TaskRegistry.get(\"assert_raw\")\n",
        "ds = nq_task.get_dataset(split=\"train\", sequence_length={\"inputs\": 512, \"targets\": 512})\n",
        "print(\"A few preprocessed training examples...\")\n",
        "for ex in tfds.as_numpy(ds.take(5)):\n",
        "  print(ex)\n",
        "\n",
        "#FIFTH TASK CREATED"
      ],
      "execution_count": null,
      "outputs": []
    },
    {
      "cell_type": "code",
      "metadata": {
        "id": "ioM_lc2GWJex",
        "colab_type": "code",
        "colab": {}
      },
      "source": [
        "# Dataset sizes:\n",
        "#   - training: 1953940\n",
        "#   - eval:     104272\n",
        "#   - test:     90908  \n",
        "\n",
        "DATA_DIR_1 = os.path.join(BASE_DIR, \"data/datasets/finetuning-ds/comment/\")\n",
        "\n",
        "nq_tsv_path_comment = {\n",
        "    \"train\": os.path.join(DATA_DIR_1, \"training.tsv\"),\n",
        "    \"validation\": os.path.join(DATA_DIR_1, \"test.tsv\"),\n",
        "}\n",
        "\n",
        "num_nq_examples_comment = dict(train=1953940, validation=90908)"
      ],
      "execution_count": null,
      "outputs": []
    },
    {
      "cell_type": "code",
      "metadata": {
        "id": "NlITwEMEWJWZ",
        "colab_type": "code",
        "colab": {}
      },
      "source": [
        "def nq_dataset_comment(split, shuffle_files=False):\n",
        "  # We only have one file for each split.\n",
        "  del shuffle_files\n",
        "\n",
        "  # Load lines from the text file as examples.\n",
        "  ds = tf.data.TextLineDataset(nq_tsv_path_comment[split])\n",
        "  ds = ds.map(\n",
        "      functools.partial(tf.io.decode_csv, record_defaults=[\"string\",\"string\"],\n",
        "                        field_delim=\"\\t\", use_quote_delim=False),\n",
        "      num_parallel_calls=tf.data.experimental.AUTOTUNE)\n",
        "  \n",
        "  ds = ds.map(lambda *ex: dict(zip([\"method\", \"comment\"], ex)))\n",
        "  return ds\n",
        "\n",
        "print(\"A few raw valid examples...\")\n",
        "for idx,ex in enumerate(tfds.as_numpy(nq_dataset_comment(\"validation\").take(5))):\n",
        "  print(ex)"
      ],
      "execution_count": null,
      "outputs": []
    },
    {
      "cell_type": "code",
      "metadata": {
        "id": "rUm_rHyYWJU9",
        "colab_type": "code",
        "colab": {}
      },
      "source": [
        "def preprocessing_comment(ds):\n",
        "  \n",
        "  def to_inputs_and_targets(ex):\n",
        "        x_input = tf.strings.lower(ex['method'])\n",
        "        y_label = tf.strings.lower(ex['comment']) \n",
        "        inputs = tf.strings.join(['generate comment: '  + x_input], separator=' ')\n",
        "        class_label = tf.strings.join([y_label], separator=' ')\n",
        "        return {'inputs': inputs, 'targets': class_label }\n",
        "    \n",
        "  return ds.map(to_inputs_and_targets, \n",
        "                num_parallel_calls=tf.data.experimental.AUTOTUNE)"
      ],
      "execution_count": null,
      "outputs": []
    },
    {
      "cell_type": "code",
      "metadata": {
        "id": "HR-tAdYVWJQM",
        "colab_type": "code",
        "colab": {}
      },
      "source": [
        "TaskRegistry = t5.data.TaskRegistry\n",
        "TfdsTask = t5.data.TfdsTask\n",
        "\n",
        "t5.data.TaskRegistry.remove('comments')\n",
        "t5.data.TaskRegistry.add(\n",
        "    \"comments\",\n",
        "    dataset_fn=nq_dataset_comment,\n",
        "    splits=[\"train\", \"validation\"],\n",
        "    text_preprocessor=[preprocessing_comment],\n",
        "    output_features=FEATURES,\n",
        "    metric_fns=[t5.evaluation.metrics.bleu, t5.evaluation.metrics.rouge],\n",
        "    num_input_examples = num_nq_examples_comment\n",
        ")"
      ],
      "execution_count": null,
      "outputs": []
    },
    {
      "cell_type": "code",
      "metadata": {
        "id": "QVTZH78jXrTS",
        "colab_type": "code",
        "colab": {}
      },
      "source": [
        "nq_task = t5.data.TaskRegistry.get(\"comments\")\n",
        "ds = nq_task.get_dataset(split=\"train\", sequence_length={\"inputs\": 512, \"targets\": 512})\n",
        "print(\"A few preprocessed training examples...\")\n",
        "for ex in tfds.as_numpy(ds.take(5)):\n",
        "  print(ex)\n",
        "\n",
        "#SIXTH TASK CREATED"
      ],
      "execution_count": null,
      "outputs": []
    },
    {
      "cell_type": "code",
      "metadata": {
        "colab_type": "code",
        "id": "cz1a1TxFNKmx",
        "colab": {}
      },
      "source": [
        "#The following function implements proportional sampling\n",
        "#Here the idea is to create batches according to the dataset size wrt the each task\n",
        "#By doing so, we should be able to cope with overfitting\n",
        "\n",
        "def _rate_num_input_examples(task):\n",
        "  if \"train\" in task.splits:\n",
        "    return float(task.num_input_examples(\"train\"))\n",
        "  elif \"validation\" in task.splits:\n",
        "    return float(task.num_input_examples(\"validation\"))\n",
        "  else:\n",
        "    raise ValueError(\"Task %s does not have a train or validation split.\" % (task.name))\n",
        "\n",
        "\n",
        "t5.data.MixtureRegistry.remove(\"all_tasks\")\n",
        "t5.data.MixtureRegistry.add(\n",
        "    \"all_tasks\",\n",
        "    [\"bfp_small\", \"bfp_medium\", \"assert_abt\", \"assert_raw\", \"mutants\",\"comments\"],\n",
        "    default_rate=_rate_num_input_examples\n",
        "     #default_rate=1.0\n",
        ")"
      ],
      "execution_count": null,
      "outputs": []
    },
    {
      "cell_type": "code",
      "metadata": {
        "colab_type": "code",
        "id": "_3Qx699vN302",
        "colab": {}
      },
      "source": [
        "from mesh_tensorflow.transformer import learning_rate_schedules\n",
        "\n",
        "\n",
        "MODEL_SIZE = \"small\" \n",
        "\n",
        "# Set the folder where the checkpoints and all the others information will be writed\n",
        "MODEL_DIR = 'gs://...../'\n",
        "\n",
        "# Specify the pre-trained dir which must contain the pre-trained models, the operative_config.gin file and the checkpoint file as well\n",
        "#PRETRAINED_DIR='gs://...../pretrained_model/'\n",
        "\n",
        "\n",
        "model_parallelism, train_batch_size, keep_checkpoint_max = {\n",
        "    \"small\": (1, 256, 16),\n",
        "    \"base\": (2, 128, 8),\n",
        "    \"large\": (8, 64, 4),\n",
        "    \"3B\": (8, 16, 1),\n",
        "    \"11B\": (8, 16, 1)}[MODEL_SIZE]\n",
        "\n",
        "tf.io.gfile.makedirs(MODEL_DIR)\n",
        "\n",
        "model = t5.models.MtfModel(\n",
        "    model_dir=MODEL_DIR,\n",
        "    tpu=TPU_ADDRESS,\n",
        "    tpu_topology=TPU_TOPOLOGY,\n",
        "    model_parallelism=model_parallelism,\n",
        "    batch_size=train_batch_size,\n",
        "    sequence_length={\"inputs\": 512, \"targets\": 512},\n",
        "    learning_rate_schedule=learning_rate_schedules.slanted_triangular,\n",
        "    save_checkpoints_steps=5000,\n",
        "    keep_checkpoint_max=keep_checkpoint_max if ON_CLOUD else None,\n",
        "    iterations_per_loop=100,\n",
        ")"
      ],
      "execution_count": null,
      "outputs": []
    },
    {
      "cell_type": "code",
      "metadata": {
        "colab_type": "code",
        "id": "6oHp5ScE7nf2",
        "colab": {}
      },
      "source": [
        "#RUN FINE-TUNING\n",
        "FINETUNE_STEPS = 2000000\n",
        "\n",
        "model.finetune(\n",
        "    mixture_or_task_name=\"all_tasks\",\n",
        "    pretrained_model_dir=MODEL_DIR,\n",
        "    finetune_steps=FINETUNE_STEPS\n",
        ")"
      ],
      "execution_count": null,
      "outputs": []
    },
    {
      "cell_type": "code",
      "metadata": {
        "id": "NAo_rui4HXcT",
        "colab_type": "code",
        "colab": {}
      },
      "source": [
        "# Use a larger batch size for evaluation, which requires less memory.\n",
        "model.batch_size = train_batch_size * 4\n",
        "model.eval(\n",
        "    mixture_or_task_name=\"all_tasks\",\n",
        "    checkpoint_steps=-1 #evaluate only last checkpoint\n",
        ")"
      ],
      "execution_count": null,
      "outputs": []
    },
    {
      "cell_type": "code",
      "metadata": {
        "colab_type": "code",
        "id": "fTr15bwE6YY-",
        "colab": {}
      },
      "source": [
        "if ON_CLOUD:\n",
        "  %reload_ext tensorboard\n",
        "  import tensorboard as tb\n",
        "tb.notebook.start(\"--logdir \" + MODEL_DIR)"
      ],
      "execution_count": null,
      "outputs": []
    },
    {
      "cell_type": "code",
      "metadata": {
        "colab_type": "code",
        "id": "bBXTPr0ke04I",
        "colab": {}
      },
      "source": [
        ""
      ],
      "execution_count": null,
      "outputs": []
    }
  ]
}