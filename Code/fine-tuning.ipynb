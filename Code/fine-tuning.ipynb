{
  "nbformat": 4,
  "nbformat_minor": 0,
  "metadata": {
    "accelerator": "TPU",
    "colab": {
      "name": "finetuning.ipynb",
      "provenance": [],
      "collapsed_sections": [],
      "machine_shape": "hm"
    },
    "kernelspec": {
      "display_name": "Python 3",
      "language": "python",
      "name": "python3"
    },
    "language_info": {
      "codemirror_mode": {
        "name": "ipython",
        "version": 3
      },
      "file_extension": ".py",
      "mimetype": "text/x-python",
      "name": "python",
      "nbconvert_exporter": "python",
      "pygments_lexer": "ipython3",
      "version": "3.7.6"
    }
  },
  "cells": [
    {
      "cell_type": "code",
      "metadata": {
        "colab_type": "code",
        "id": "2h1MRzBLtex2",
        "colab": {}
      },
      "source": [
        "%tensorflow_version 2.x\n",
        "#!pip3 install --upgrade pip\n",
        "#!pip install -qU t5\n",
        "!pip install -q git+https://github.com/google-research/text-to-text-transfer-transformer.git@1e269e72a981fde4ea64a88a0a0d8cc88871e20a #temporary fix\n",
        "\n",
        "import functools\n",
        "import os\n",
        "import time\n",
        "import warnings\n",
        "warnings.filterwarnings(\"ignore\", category=DeprecationWarning)\n",
        "\n",
        "import tensorflow.compat.v1 as tf\n",
        "import tensorflow_datasets as tfds\n",
        "\n",
        "import t5\n",
        "\n",
        "#Set the base dir(Google cloud bucket)\n",
        "BASE_DIR = \"gs://bucket_thesis_dl4se\" \n",
        "\n",
        "if not BASE_DIR or BASE_DIR == \"gs://\":\n",
        "  raise ValueError(\"You must enter a BASE_DIR.\")\n",
        "DATA_DIR = os.path.join(BASE_DIR, \"data\")\n",
        "MODELS_DIR = os.path.join(BASE_DIR, \"models\")\n",
        "ON_CLOUD = True\n",
        "\n",
        "\n",
        "if ON_CLOUD:\n",
        "  import tensorflow_gcs_config\n",
        "  from google.colab import auth\n",
        "  # Set credentials for GCS reading/writing from Colab and TPU.\n",
        "  TPU_TOPOLOGY = \"2x2\"\n",
        "  try:\n",
        "    tpu = tf.distribute.cluster_resolver.TPUClusterResolver()  # TPU detection\n",
        "    TPU_ADDRESS = tpu.get_master()\n",
        "    print('Running on TPU:', TPU_ADDRESS)\n",
        "  except ValueError:\n",
        "    raise BaseException('ERROR: Not connected to a TPU runtime; please see the previous cell in this notebook for instructions!')\n",
        "  auth.authenticate_user()\n",
        "  tf.config.experimental_connect_to_host(TPU_ADDRESS)\n",
        "  tensorflow_gcs_config.configure_gcs_from_colab_auth()\n",
        "\n",
        "tf.disable_v2_behavior()\n",
        "\n",
        "# Improve logging.\n",
        "from contextlib import contextmanager\n",
        "import logging as py_logging\n",
        "\n",
        "if ON_CLOUD:\n",
        "  tf.get_logger().propagate = False\n",
        "  py_logging.root.setLevel('INFO')\n",
        "\n",
        "@contextmanager\n",
        "def tf_verbosity_level(level):\n",
        "  og_level = tf.logging.get_verbosity()\n",
        "  tf.logging.set_verbosity(level)\n",
        "  yield\n",
        "  tf.logging.set_verbosity(og_level)"
      ],
      "execution_count": null,
      "outputs": []
    },
    {
      "cell_type": "code",
      "metadata": {
        "colab_type": "code",
        "id": "glLJUm1dxIiH",
        "colab": {}
      },
      "source": [
        "from t5.data import postprocessors as t5_postprocessors\n",
        "from t5.data.utils import Feature\n",
        "from t5.data import sentencepiece_vocabulary\n",
        "\n",
        "# Set the path of sentencepiece model and vocab files\n",
        "# Must be the same used for the pre-trained phase\n",
        "vocab_model_path = 'gs://bucket_thesis_dl4se/data/vocab/dl4se_sentencepiece.model'\n",
        "vocab_path = 'gs://bucket_thesis_dl4se/data/vocab/dl4se_sentencepiece.vocab'\n",
        "\n",
        "\n",
        "TaskRegistry = t5.data.TaskRegistry\n",
        "TfdsTask = t5.data.TfdsTask\n",
        "\n",
        "DEFAULT_EXTRA_IDS = 100\n",
        "\n",
        "def get_default_vocabulary():\n",
        "  return sentencepiece_vocabulary.SentencePieceVocabulary(\n",
        "      vocab_model_path, DEFAULT_EXTRA_IDS)\n",
        "\n",
        "FEATURES = {\n",
        "    \"inputs\": Feature(vocabulary=get_default_vocabulary(), add_eos=True),\n",
        "    \"targets\": Feature(vocabulary=get_default_vocabulary(), add_eos=True)\n",
        "}"
      ],
      "execution_count": null,
      "outputs": []
    },
    {
      "cell_type": "code",
      "metadata": {
        "colab_type": "code",
        "id": "_-B3_th9eP5y",
        "colab": {}
      },
      "source": [
        "# Dataset sizes:\n",
        "#   - training: 92476\n",
        "#   - eval:     11560\n",
        "#   - test:     11559   \n",
        "\n",
        "\n",
        "\n",
        "DATA_DIR = os.path.join(BASE_DIR, \"data/datasets/finetuning-ds/tp_ident\")\n",
        "\n",
        "\n",
        "nq_tsv_path_mutant = {\n",
        "    \"train\": os.path.join(DATA_DIR, \"training.tsv\"),\n",
        "    \"validation\": os.path.join(DATA_DIR, \"test.tsv\")\n",
        "}\n",
        "\n",
        "num_nq_examples_mutants = dict(train=92476, validation=11559)"
      ],
      "execution_count": null,
      "outputs": []
    },
    {
      "cell_type": "code",
      "metadata": {
        "colab_type": "code",
        "id": "K0NTLbyXvkCs",
        "colab": {
          "base_uri": "https://localhost:8080/",
          "height": 139
        },
        "outputId": "b3f36366-5aee-4608-d2c8-deed558c8a80"
      },
      "source": [
        "def nq_dataset_mutant(split, shuffle_files=False):\n",
        "  # We only have one file for each split.\n",
        "  del shuffle_files\n",
        "\n",
        "  # Load lines from the text file as examples.\n",
        "  ds = tf.data.TextLineDataset(nq_tsv_path_mutant[split])\n",
        "  ds = ds.map(\n",
        "      functools.partial(tf.io.decode_csv, record_defaults=[\"string\",\"string\"],\n",
        "                        field_delim=\"\\t\", use_quote_delim=False),\n",
        "      num_parallel_calls=tf.data.experimental.AUTOTUNE)\n",
        "  \n",
        "  ds = ds.map(lambda *ex: dict(zip([\"fixed\", \"buggy\"], ex)))\n",
        "  return ds\n",
        "\n",
        "print(\"A few raw valid examples...\")\n",
        "for ex in tfds.as_numpy(nq_dataset_mutant(\"validation\").take(5)):\n",
        "  print(ex)\n"
      ],
      "execution_count": null,
      "outputs": [
        {
          "output_type": "stream",
          "text": [
            "A few raw valid examples...\n",
            "{'fixed': b'\"private static java.lang.String METHOD_1 ( java.lang.String VAR_1 ) { if ( VAR_1 == null ) { return null ; } else if ( VAR_2 . toLowerCase ( ) . equals ( STRING_1 ) ) { VAR_1 = null ; } return VAR_1 ; }\"', 'buggy': b'\"private static java.lang.String METHOD_1 ( java.lang.String VAR_1 ) { if ( VAR_1 == null ) return null ; if ( VAR_2 . toLowerCase ( ) . equals ( STRING_1 ) ) { VAR_1 = null ; } return VAR_1 ; }\"'}\n",
            "{'fixed': b'\"public synchronized void add ( int index , java.lang.Object element ) { synchronized ( VAR_1 ) { this . VAR_2 . add ( index , element ) ; } }\"', 'buggy': b'\"public synchronized void add ( int index , java.lang.Object element ) { this . VAR_2 . add ( index , element ) ; }\"'}\n",
            "{'fixed': b'\"public void METHOD_1 ( ) { TYPE_1 . METHOD_2 ( getClass ( ) . METHOD_3 ( ) , STRING_1 ) ; super . METHOD_1 ( ) ; TYPE_2 . METHOD_4 ( ) . METHOD_5 ( this ) ; }\"', 'buggy': b'\"public void METHOD_1 ( ) { super . METHOD_1 ( ) ; TYPE_2 . METHOD_4 ( ) . METHOD_5 ( this ) ; }\"'}\n",
            "{'fixed': b'\"protected float METHOD_1 ( float VAR_1 ) { return ( VAR_1 * INT_1 ) / INT_2 ; }\"', 'buggy': b'\"protected float METHOD_1 ( float VAR_1 ) { return ( VAR_1 * INT_3 ) / INT_2 ; }\"'}\n",
            "{'fixed': b'\"public static char [ ] METHOD_1 ( java.lang.String VAR_1 ) { char [ ] out = new char [ 1 ] ; VAR_1 . METHOD_2 ( 0 , VAR_2 . length ( ) , out , 0 ) ; return out ; }\"', 'buggy': b'\"public static char [ ] METHOD_1 ( java.lang.String VAR_1 ) { char [ ] out = new char [ ] { } ; VAR_1 . METHOD_2 ( 0 , VAR_2 . length ( ) , out , 0 ) ; return out ; }\"'}\n"
          ],
          "name": "stdout"
        }
      ]
    },
    {
      "cell_type": "code",
      "metadata": {
        "colab_type": "code",
        "id": "4bJZPQgjxKZ1",
        "colab": {}
      },
      "source": [
        "def mutant_preprocessing(ds):\n",
        "  \n",
        "  def to_inputs_and_targets(ex):\n",
        "\n",
        "        x_input = tf.strings.lower(ex['fixed'])\n",
        "        y_label = tf.strings.lower(ex['buggy']) \n",
        "        inputs = tf.strings.join(['generate mutant: ' + x_input], separator=' ')\n",
        "        class_label = tf.strings.join([y_label], separator=' ')\n",
        "        return {'inputs': inputs, 'targets': class_label }\n",
        "    \n",
        "  return ds.map(to_inputs_and_targets, \n",
        "                num_parallel_calls=tf.data.experimental.AUTOTUNE)"
      ],
      "execution_count": null,
      "outputs": []
    },
    {
      "cell_type": "code",
      "metadata": {
        "colab_type": "code",
        "id": "h3jAg8Zhx_Ep",
        "colab": {}
      },
      "source": [
        "t5.data.TaskRegistry.remove('mutants')\n",
        "t5.data.TaskRegistry.add(\n",
        "    \"mutants\",\n",
        "    dataset_fn=nq_dataset_mutant,\n",
        "    splits=[\"train\", \"validation\"],\n",
        "    text_preprocessor=[mutant_preprocessing],\n",
        "    output_features=FEATURES,\n",
        "    metric_fns=[t5.evaluation.metrics.bleu],\n",
        "    num_input_examples=num_nq_examples_mutants\n",
        ")"
      ],
      "execution_count": null,
      "outputs": []
    },
    {
      "cell_type": "code",
      "metadata": {
        "colab_type": "code",
        "id": "e71p9JIFyYHm",
        "colab": {}
      },
      "source": [
        "nq_task = t5.data.TaskRegistry.get(\"mutants\")\n",
        "ds = nq_task.get_dataset(split=\"train\", sequence_length={\"inputs\": 512, \"targets\": 512})\n",
        "print(\"A few preprocessed training examples...\")\n",
        "for ex in tfds.as_numpy(ds.take(5)):\n",
        "  print(ex)\n",
        "\n",
        "#FIRST TASK CREATED"
      ],
      "execution_count": null,
      "outputs": []
    },
    {
      "cell_type": "code",
      "metadata": {
        "colab_type": "code",
        "id": "gDFnQ3pAygLe",
        "colab": {}
      },
      "source": [
        "# Dataset sizes:\n",
        "#   - training: 46680\n",
        "#   - eval:     5835\n",
        "#   - test:     5835  \n",
        "\n",
        "\n",
        "DATA_DIR_1 = os.path.join(BASE_DIR, \"data/datasets/finetuning-ds/small/\")\n",
        "\n",
        "nq_tsv_path_bfp_small = {\n",
        "    \"train\": os.path.join(DATA_DIR_1, \"training_bfp.tsv\"),\n",
        "    \"validation\": os.path.join(DATA_DIR_1, \"test_bfp.tsv\"),\n",
        "}\n",
        "\n",
        "num_nq_examples_bfp_small = dict(train=46680, validation=5835)"
      ],
      "execution_count": null,
      "outputs": []
    },
    {
      "cell_type": "code",
      "metadata": {
        "colab_type": "code",
        "id": "UNi7HPiOz27q",
        "colab": {}
      },
      "source": [
        "def nq_dataset_bfp_small(split, shuffle_files=False):\n",
        "  # We only have one file for each split.\n",
        "  del shuffle_files\n",
        "\n",
        "  # Load lines from the text file as examples.\n",
        "  ds = tf.data.TextLineDataset(nq_tsv_path_bfp_small[split])\n",
        "  ds = ds.map(\n",
        "      functools.partial(tf.io.decode_csv, record_defaults=[\"string\",\"string\"],\n",
        "                        field_delim=\"\\t\", use_quote_delim=False),\n",
        "      num_parallel_calls=tf.data.experimental.AUTOTUNE)\n",
        "  \n",
        "  ds = ds.map(lambda *ex: dict(zip([\"buggy\", \"fixed\"], ex)))\n",
        "  return ds\n",
        "\n",
        "print(\"A few raw valid examples...\")\n",
        "for ex in tfds.as_numpy(nq_dataset_bfp_small(\"validation\").take(5)):\n",
        "  print(ex)"
      ],
      "execution_count": null,
      "outputs": []
    },
    {
      "cell_type": "code",
      "metadata": {
        "colab_type": "code",
        "id": "VvDAbgNY0B4Y",
        "colab": {}
      },
      "source": [
        "def bfp_preprocessing_small(ds):\n",
        "  \n",
        "  def to_inputs_and_targets(ex):\n",
        "        x_input = tf.strings.lower(ex['buggy'])\n",
        "        y_label = tf.strings.lower(ex['fixed']) \n",
        "        inputs = tf.strings.join(['generate small patch: '  + x_input], separator=' ')\n",
        "        class_label = tf.strings.join([y_label], separator=' ')\n",
        "        return {'inputs': inputs, 'targets': class_label }\n",
        "    \n",
        "  return ds.map(to_inputs_and_targets, \n",
        "                num_parallel_calls=tf.data.experimental.AUTOTUNE)"
      ],
      "execution_count": null,
      "outputs": []
    },
    {
      "cell_type": "code",
      "metadata": {
        "colab_type": "code",
        "id": "-Mm6AQfw0INC",
        "colab": {}
      },
      "source": [
        "TaskRegistry = t5.data.TaskRegistry\n",
        "TfdsTask = t5.data.TfdsTask\n",
        "\n",
        "t5.data.TaskRegistry.remove('bfp_small')\n",
        "t5.data.TaskRegistry.add(\n",
        "    \"bfp_small\",\n",
        "    dataset_fn=nq_dataset_bfp_small,\n",
        "    splits=[\"train\", \"validation\"],\n",
        "    text_preprocessor=[bfp_preprocessing_small],\n",
        "    output_features=FEATURES,\n",
        "    metric_fns=[t5.evaluation.metrics.accuracy],\n",
        "    num_input_examples = num_nq_examples_bfp_small\n",
        ")\n"
      ],
      "execution_count": null,
      "outputs": []
    },
    {
      "cell_type": "code",
      "metadata": {
        "colab_type": "code",
        "id": "qnf25qt10Wkl",
        "colab": {}
      },
      "source": [
        "nq_task = t5.data.TaskRegistry.get(\"bfp_small\")\n",
        "ds = nq_task.get_dataset(split=\"train\", sequence_length={\"inputs\": 512, \"targets\": 512})\n",
        "print(\"A few preprocessed training examples...\")\n",
        "for ex in tfds.as_numpy(ds.take(5)):\n",
        "  print(ex)\n",
        "\n",
        "#SECOND TASK CREATED"
      ],
      "execution_count": null,
      "outputs": []
    },
    {
      "cell_type": "code",
      "metadata": {
        "colab_type": "code",
        "id": "dRy5zq7N37vI",
        "colab": {}
      },
      "source": [
        "# Dataset sizes:\n",
        "#   - training: 52364\n",
        "#   - eval:     6546\n",
        "#   - test:     6545  \n",
        "\n",
        "DATA_DIR_1 = os.path.join(BASE_DIR, \"data/datasets/finetuning-ds/medium/\")\n",
        "\n",
        "\n",
        "nq_tsv_path_bfp_medium = {\n",
        "    \"train\": os.path.join(DATA_DIR_1, \"training.tsv\"),\n",
        "    \"validation\": os.path.join(DATA_DIR_1, \"test.tsv\"),\n",
        "}\n",
        "\n",
        "num_nq_examples_bfp_medium = dict(train=52364, validation=6545)"
      ],
      "execution_count": null,
      "outputs": []
    },
    {
      "cell_type": "code",
      "metadata": {
        "colab_type": "code",
        "id": "ltV-7-gr372M",
        "colab": {}
      },
      "source": [
        "def nq_dataset_bfp_medium(split, shuffle_files=False):\n",
        "  # We only have one file for each split.\n",
        "  del shuffle_files\n",
        "\n",
        "  # Load lines from the text file as examples.\n",
        "  ds = tf.data.TextLineDataset(nq_tsv_path_bfp_medium[split])\n",
        "  ds = ds.map(\n",
        "      functools.partial(tf.io.decode_csv, record_defaults=[\"string\",\"string\"],\n",
        "                        field_delim=\"\\t\", use_quote_delim=False),\n",
        "      num_parallel_calls=tf.data.experimental.AUTOTUNE)\n",
        "  \n",
        "  ds = ds.map(lambda *ex: dict(zip([\"buggy\", \"fixed\"], ex)))\n",
        "  return ds\n",
        "\n",
        "print(\"A few raw valid examples...\")\n",
        "for ex in tfds.as_numpy(nq_dataset_bfp_medium(\"validation\").take(5)):\n",
        "  print(ex)"
      ],
      "execution_count": null,
      "outputs": []
    },
    {
      "cell_type": "code",
      "metadata": {
        "id": "ec-en0pGtOHr",
        "colab_type": "code",
        "colab": {}
      },
      "source": [
        "def bfp_preprocessing_medium(ds):\n",
        "  \n",
        "  def to_inputs_and_targets(ex):\n",
        "        x_input = tf.strings.lower(ex['buggy'])\n",
        "        y_label = tf.strings.lower(ex['fixed']) \n",
        "        inputs = tf.strings.join(['generate medium patch: '  + x_input], separator=' ')\n",
        "        class_label = tf.strings.join([y_label], separator=' ')\n",
        "        return {'inputs': inputs, 'targets': class_label }\n",
        "    \n",
        "  return ds.map(to_inputs_and_targets, \n",
        "                num_parallel_calls=tf.data.experimental.AUTOTUNE)"
      ],
      "execution_count": null,
      "outputs": []
    },
    {
      "cell_type": "code",
      "metadata": {
        "colab_type": "code",
        "id": "MH4yMlf238DU",
        "colab": {}
      },
      "source": [
        "TaskRegistry = t5.data.TaskRegistry\n",
        "TfdsTask = t5.data.TfdsTask\n",
        "\n",
        "DATASET_TYPE='medium'\n",
        "\n",
        "t5.data.TaskRegistry.remove('bfp_medium')\n",
        "t5.data.TaskRegistry.add(\n",
        "    \"bfp_medium\",\n",
        "    dataset_fn=nq_dataset_bfp_medium,\n",
        "    splits=[\"train\", \"validation\"],\n",
        "    text_preprocessor=[bfp_preprocessing_medium],\n",
        "    output_features=FEATURES,\n",
        "    metric_fns=[t5.evaluation.metrics.accuracy],\n",
        "    num_input_examples = num_nq_examples_bfp_medium\n",
        ")"
      ],
      "execution_count": null,
      "outputs": []
    },
    {
      "cell_type": "code",
      "metadata": {
        "colab_type": "code",
        "id": "BB0BEsPf38Je",
        "colab": {}
      },
      "source": [
        "nq_task = t5.data.TaskRegistry.get(\"bfp_medium\")\n",
        "ds = nq_task.get_dataset(split=\"train\", sequence_length={\"inputs\": 512, \"targets\": 512})\n",
        "print(\"A few preprocessed training examples...\")\n",
        "for ex in tfds.as_numpy(ds.take(5)):\n",
        "  print(ex)\n",
        "\n",
        "#THIRD TASK CREATED"
      ],
      "execution_count": null,
      "outputs": []
    },
    {
      "cell_type": "code",
      "metadata": {
        "colab_type": "code",
        "id": "9QMrB28q75_1",
        "colab": {}
      },
      "source": [
        "# Dataset sizes:\n",
        "#   - training: 126477\n",
        "#   - eval:     15809\n",
        "#   - test:     15810  \n",
        "\n",
        "DATA_DIR_1 = os.path.join(BASE_DIR, \"data/datasets/finetuning-ds/abt/\")\n",
        "\n",
        "nq_tsv_path_assert_abt = {\n",
        "    \"train\": os.path.join(DATA_DIR_1, \"training.tsv\"),\n",
        "    \"validation\": os.path.join(DATA_DIR_1, \"test.tsv\"),\n",
        "}\n",
        "\n",
        "num_nq_examples_assert_abt = dict(train=126477, validation=15810)"
      ],
      "execution_count": null,
      "outputs": []
    },
    {
      "cell_type": "code",
      "metadata": {
        "colab_type": "code",
        "id": "Ga3FXcg98J6y",
        "colab": {}
      },
      "source": [
        "def nq_dataset_assert_abt(split, shuffle_files=False):\n",
        "  # We only have one file for each split.\n",
        "  del shuffle_files\n",
        "\n",
        "  # Load lines from the text file as examples.\n",
        "  ds = tf.data.TextLineDataset(nq_tsv_path_assert_abt[split])\n",
        "  ds = ds.map(\n",
        "      functools.partial(tf.io.decode_csv, record_defaults=[\"string\",\"string\"],\n",
        "                        field_delim=\"\\t\", use_quote_delim=False),\n",
        "      num_parallel_calls=tf.data.experimental.AUTOTUNE)\n",
        "  \n",
        "  ds = ds.map(lambda *ex: dict(zip([\"method\", \"assert\"], ex)))\n",
        "  return ds\n",
        "\n",
        "print(\"A few raw valid examples...\")\n",
        "for idx,ex in enumerate(tfds.as_numpy(nq_dataset_assert_abt(\"validation\").take(5))):\n",
        "  print(ex)"
      ],
      "execution_count": null,
      "outputs": []
    },
    {
      "cell_type": "code",
      "metadata": {
        "colab_type": "code",
        "id": "DVswQpRXobUa",
        "colab": {}
      },
      "source": [
        "def atlas_preprocessing_abt(ds):\n",
        "  \n",
        "  def to_inputs_and_targets(ex):\n",
        "\n",
        "        x_input = tf.strings.lower(ex['method'])\n",
        "        y_label = tf.strings.lower(ex['assert']) \n",
        "        inputs = tf.strings.join(['generate abt assert: ' + x_input], separator=' ')\n",
        "        class_label = tf.strings.join([y_label], separator=' ')\n",
        "        return {'inputs': inputs, 'targets': class_label }\n",
        "    \n",
        "  return ds.map(to_inputs_and_targets, \n",
        "                num_parallel_calls=tf.data.experimental.AUTOTUNE)"
      ],
      "execution_count": null,
      "outputs": []
    },
    {
      "cell_type": "code",
      "metadata": {
        "colab_type": "code",
        "id": "X60ORuG6obqb",
        "colab": {}
      },
      "source": [
        "TaskRegistry = t5.data.TaskRegistry\n",
        "TfdsTask = t5.data.TfdsTask\n",
        "\n",
        "t5.data.TaskRegistry.remove('assert_abt')\n",
        "t5.data.TaskRegistry.add(\n",
        "    \"assert_abt\",\n",
        "    dataset_fn=nq_dataset_assert_abt,\n",
        "    splits=[\"train\", \"validation\"],\n",
        "    text_preprocessor=[atlas_preprocessing_abt],\n",
        "    output_features=FEATURES,\n",
        "    metric_fns=[t5.evaluation.metrics.accuracy],\n",
        "    num_input_examples = num_nq_examples_assert_abt\n",
        ")\n"
      ],
      "execution_count": null,
      "outputs": []
    },
    {
      "cell_type": "code",
      "metadata": {
        "colab_type": "code",
        "id": "vRWg2a4W2Q4y",
        "colab": {}
      },
      "source": [
        "nq_task = t5.data.TaskRegistry.get(\"assert_abt\")\n",
        "ds = nq_task.get_dataset(split=\"train\", sequence_length={\"inputs\": 512, \"targets\": 512})\n",
        "print(\"A few preprocessed training examples...\")\n",
        "for ex in tfds.as_numpy(ds.take(5)):\n",
        "  print(ex)\n",
        "\n",
        "#FOURTH TASK CREATED"
      ],
      "execution_count": null,
      "outputs": []
    },
    {
      "cell_type": "code",
      "metadata": {
        "id": "9Ei8FQGbWJIW",
        "colab_type": "code",
        "colab": {}
      },
      "source": [
        "# Dataset sizes:\n",
        "#   - training: 150523\n",
        "#   - eval:     18816\n",
        "#   - test:     18815  \n",
        "\n",
        "DATA_DIR_1 = os.path.join(BASE_DIR, \"data/datasets/finetuning-ds/raw/\")\n",
        "\n",
        "nq_tsv_path_assert_raw = {\n",
        "    \"train\": os.path.join(DATA_DIR_1, \"training.tsv\"),\n",
        "    \"validation\": os.path.join(DATA_DIR_1, \"test.tsv\"),\n",
        "}\n",
        "\n",
        "num_nq_examples_assert_raw = dict(train=150523, validation=18815)"
      ],
      "execution_count": null,
      "outputs": []
    },
    {
      "cell_type": "code",
      "metadata": {
        "id": "wNkdyts6cYTq",
        "colab_type": "code",
        "colab": {
          "base_uri": "https://localhost:8080/",
          "height": 139
        },
        "outputId": "db2cb141-1eaa-4bb6-9f2d-e0a101f32f99"
      },
      "source": [
        "def nq_dataset_assert_raw(split, shuffle_files=False):\n",
        "  # We only have one file for each split.\n",
        "  del shuffle_files\n",
        "\n",
        "  # Load lines from the text file as examples.\n",
        "  ds = tf.data.TextLineDataset(nq_tsv_path_assert_raw[split])\n",
        "  ds = ds.map(\n",
        "      functools.partial(tf.io.decode_csv, record_defaults=[\"string\",\"string\"],\n",
        "                        field_delim=\"\\t\", use_quote_delim=False),\n",
        "      num_parallel_calls=tf.data.experimental.AUTOTUNE)\n",
        "  \n",
        "  ds = ds.map(lambda *ex: dict(zip([\"method\", \"assert\"], ex)))\n",
        "  return ds\n",
        "\n",
        "print(\"A few raw valid examples...\")\n",
        "for idx,ex in enumerate(tfds.as_numpy(nq_dataset_assert_raw(\"validation\").take(5))):\n",
        "  print(ex)"
      ],
      "execution_count": null,
      "outputs": [
        {
          "output_type": "stream",
          "text": [
            "A few raw valid examples...\n",
            "{'method': b'\"testGetLibrariesDoesDeDuplication ( ) { when ( design . getContentResource ( ) ) . thenReturn ( designContentResource ) ; setLibraries ( designContentResource , PageRegion . HEAD , new java . lang . String [ ] { \"\"css1\"\" , \"\"cssandjs1\"\" } , new java . lang . String [ ] { \"\"js1\"\" , \"\"cssandjs1\"\" } ) ; java . lang . String [ ] categories = instance . getLibraries ( design , PageRegion . HEAD ) ; \"\"<AssertPlaceHolder>\"\" ; } getLibraries ( com . day . cq . wcm . api . designer . Design , com . adobe . acs . commons . designer . PageRegion ) { final java . lang . String [ ] cssLibs = this . getCssLibraries ( design , pageRegion ) ; final java . lang . String [ ] jsLibs = this . getJsLibraries ( design , pageRegion ) ; final java . util . LinkedHashSet < java . lang . String > libs = new java . util . LinkedHashSet < java . lang . String > ( ) ; libs . addAll ( java . util . Arrays . asList ( cssLibs ) ) ; libs . addAll ( java . util . Arrays . asList ( jsLibs ) ) ; return libs . toArray ( new java . lang . String [ libs . size ( ) ] ) ; }\"', 'assert': b'\"org . junit . Assert . assertArrayEquals ( new java . lang . Object [ ] { \"\"css1\"\" , \"\"cssandjs1\"\" , \"\"js1\"\" } , categories )\"'}\n",
            "{'method': b'\"getUsersWaitingNotificationNoWatchExpectEmptyList ( ) { net . jforum . repository . TopicWatchRepository dao = this . newDao ( ) ; net . jforum . entities . Topic topic = new net . jforum . entities . Topic ( ) ; topic . setId ( 13 ) ; java . util . List < net . jforum . entities . User > users = dao . getUsersWaitingNotification ( topic ) ; \"\"<AssertPlaceHolder>\"\" ; } getUsersWaitingNotification ( net . jforum . entities . Topic ) { java . util . List < net . jforum . entities . User > users = session . createQuery ( ( \"\"select<sp>u<sp>from<sp>TopicWatch<sp>tw<sp>\"\" + ( \"\"<sp>inner<sp>join<sp>tw.user<sp>u<sp>where<sp>tw.topic<sp>=<sp>:topic<sp>\"\" + \"\"<sp>and<sp>(tw.read<sp>=<sp>true<sp>or<sp>u.notifyAlways<sp>=<sp>true)\"\" ) ) ) . setEntity ( \"\"topic\"\" , topic ) . setComment ( \"\"topicWatchDAO.getUsersWaitingNotification\"\" ) . list ( ) ; if ( ( users . size ( ) ) > 0 ) { this . markAllAsUnread ( topic ) ; } return users ; }\"', 'assert': b'org . junit . Assert . assertEquals ( 0 , users . size ( ) )'}\n",
            "{'method': b'\"testCreatorNull ( ) { de . sstoehr . harreader . model . HarLog log = new de . sstoehr . harreader . model . HarLog ( ) ; log . setCreator ( null ) ; \"\"<AssertPlaceHolder>\"\" ; } getCreator ( ) { if ( ( creator ) == null ) { creator = new de . sstoehr . harreader . model . HarCreatorBrowser ( ) ; } return creator ; }\"', 'assert': b'org . junit . Assert . assertNotNull ( log . getCreator ( ) )'}\n",
            "{'method': b'\"shouldCorrectlyCalculateMutationsCoverageWhenAllMutationsDetected ( ) { this . testee . addMutations ( 100 ) ; this . testee . addMutationsDetetcted ( 100 ) ; \"\"<AssertPlaceHolder>\"\" ; } getMutationCoverage ( ) { return ( this . numberOfMutations ) == 0 ? 100 : java . lang . Math . round ( ( ( 100.0F * ( this . numberOfMutationsDetected ) ) / ( this . numberOfMutations ) ) ) ; }\"', 'assert': b'org . junit . Assert . assertEquals ( 100 , this . testee . getMutationCoverage ( ) )'}\n",
            "{'method': b'\"testBadIssuer ( ) { java . security . PrivateKey privateKey ; try ( java . io . InputStream is = org . apache . kerby . kerberos . kdc . TokenKdcTestBase . class . getResourceAsStream ( \"\"/private_key.pem\"\" ) ) { privateKey = org . apache . kerby . kerberos . kerb . common . PrivateKeyReader . loadPrivateKey ( is ) ; } prepareToken ( getServerPrincipal ( ) , \"\"oauth1.com\"\" , privateKey , null ) ; try { performTest ( ) ; org . junit . Assert . fail ( \"\"Failure<sp>expected<sp>on<sp>a<sp>bad<sp>issuer<sp>value\"\" ) ; } catch ( java . lang . Exception ex ) { \"\"<AssertPlaceHolder>\"\" ; } } performTest ( ) { createCredentialCache ( getClientPrincipal ( ) , getClientPassword ( ) ) ; org . apache . kerby . kerberos . kerb . type . ticket . TgtTicket tgt ; org . apache . kerby . kerberos . kerb . client . KrbTokenClient tokenClient = getTokenClient ( ) ; try { tgt = tokenClient . requestTgt ( getKrbToken ( ) , getcCacheFile ( ) . getPath ( ) ) ; } catch ( org . apache . kerby . kerberos . kerb . KrbException e ) { if ( e . getMessage ( ) . contains ( \"\"timeout\"\" ) ) { return ; } throw e ; } verifyTicket ( tgt ) ; org . apache . kerby . kerberos . kerb . type . ticket . SgtTicket tkt = getKrbClient ( ) . requestSgt ( tgt , getServerPrincipal ( ) ) ; verifyTicket ( tkt ) ; }\"', 'assert': b'org . junit . Assert . assertTrue ( ( ex instanceof org . apache . kerby . kerberos . kerb . KrbException ) )'}\n"
          ],
          "name": "stdout"
        }
      ]
    },
    {
      "cell_type": "code",
      "metadata": {
        "id": "FIIjz6DKtdsk",
        "colab_type": "code",
        "colab": {}
      },
      "source": [
        "def atlas_preprocessing_raw(ds):\n",
        "  \n",
        "  def to_inputs_and_targets(ex):\n",
        "\n",
        "        x_input = tf.strings.lower(ex['method'])\n",
        "        y_label = tf.strings.lower(ex['assert']) \n",
        "        inputs = tf.strings.join(['generate raw assert: ' + x_input], separator=' ')\n",
        "        class_label = tf.strings.join([y_label], separator=' ')\n",
        "        return {'inputs': inputs, 'targets': class_label }\n",
        "    \n",
        "  return ds.map(to_inputs_and_targets, \n",
        "                num_parallel_calls=tf.data.experimental.AUTOTUNE)"
      ],
      "execution_count": null,
      "outputs": []
    },
    {
      "cell_type": "code",
      "metadata": {
        "id": "VBMenVfoWJn_",
        "colab_type": "code",
        "colab": {}
      },
      "source": [
        "TaskRegistry = t5.data.TaskRegistry\n",
        "TfdsTask = t5.data.TfdsTask\n",
        "\n",
        "ASSERT_TYPE='raw'\n",
        "\n",
        "t5.data.TaskRegistry.remove('assert_raw')\n",
        "t5.data.TaskRegistry.add(\n",
        "    \"assert_raw\",\n",
        "    dataset_fn=nq_dataset_assert_raw,\n",
        "    splits=[\"train\", \"validation\"],\n",
        "    text_preprocessor=[atlas_preprocessing_raw],\n",
        "    output_features=FEATURES,\n",
        "    metric_fns=[t5.evaluation.metrics.accuracy],\n",
        "    num_input_examples = num_nq_examples_assert_raw\n",
        ")\n"
      ],
      "execution_count": null,
      "outputs": []
    },
    {
      "cell_type": "code",
      "metadata": {
        "id": "eImeqEV5WJif",
        "colab_type": "code",
        "colab": {}
      },
      "source": [
        "nq_task = t5.data.TaskRegistry.get(\"assert_raw\")\n",
        "ds = nq_task.get_dataset(split=\"train\", sequence_length={\"inputs\": 512, \"targets\": 512})\n",
        "print(\"A few preprocessed training examples...\")\n",
        "for ex in tfds.as_numpy(ds.take(5)):\n",
        "  print(ex)\n",
        "\n",
        "#FIFTH TASK CREATED"
      ],
      "execution_count": null,
      "outputs": []
    },
    {
      "cell_type": "code",
      "metadata": {
        "id": "ioM_lc2GWJex",
        "colab_type": "code",
        "colab": {}
      },
      "source": [
        "# Dataset sizes:\n",
        "#   - training: 1953940\n",
        "#   - eval:     104272\n",
        "#   - test:     90908  \n",
        "\n",
        "DATA_DIR_1 = os.path.join(BASE_DIR, \"data/datasets/finetuning-ds/comment/\")\n",
        "\n",
        "nq_tsv_path_comment = {\n",
        "    \"train\": os.path.join(DATA_DIR_1, \"training.tsv\"),\n",
        "    \"validation\": os.path.join(DATA_DIR_1, \"test.tsv\"),\n",
        "}\n",
        "\n",
        "num_nq_examples_comment = dict(train=1953940, validation=90908)"
      ],
      "execution_count": null,
      "outputs": []
    },
    {
      "cell_type": "code",
      "metadata": {
        "id": "NlITwEMEWJWZ",
        "colab_type": "code",
        "colab": {}
      },
      "source": [
        "def nq_dataset_comment(split, shuffle_files=False):\n",
        "  # We only have one file for each split.\n",
        "  del shuffle_files\n",
        "\n",
        "  # Load lines from the text file as examples.\n",
        "  ds = tf.data.TextLineDataset(nq_tsv_path_comment[split])\n",
        "  ds = ds.map(\n",
        "      functools.partial(tf.io.decode_csv, record_defaults=[\"string\",\"string\"],\n",
        "                        field_delim=\"\\t\", use_quote_delim=False),\n",
        "      num_parallel_calls=tf.data.experimental.AUTOTUNE)\n",
        "  \n",
        "  ds = ds.map(lambda *ex: dict(zip([\"method\", \"comment\"], ex)))\n",
        "  return ds\n",
        "\n",
        "print(\"A few raw valid examples...\")\n",
        "for idx,ex in enumerate(tfds.as_numpy(nq_dataset_comment(\"validation\").take(5))):\n",
        "  print(ex)"
      ],
      "execution_count": null,
      "outputs": []
    },
    {
      "cell_type": "code",
      "metadata": {
        "id": "rUm_rHyYWJU9",
        "colab_type": "code",
        "colab": {}
      },
      "source": [
        "def preprocessing_comment(ds):\n",
        "  \n",
        "  def to_inputs_and_targets(ex):\n",
        "        x_input = tf.strings.lower(ex['method'])\n",
        "        y_label = tf.strings.lower(ex['comment']) \n",
        "        inputs = tf.strings.join(['generate comment: '  + x_input], separator=' ')\n",
        "        class_label = tf.strings.join([y_label], separator=' ')\n",
        "        return {'inputs': inputs, 'targets': class_label }\n",
        "    \n",
        "  return ds.map(to_inputs_and_targets, \n",
        "                num_parallel_calls=tf.data.experimental.AUTOTUNE)"
      ],
      "execution_count": null,
      "outputs": []
    },
    {
      "cell_type": "code",
      "metadata": {
        "id": "HR-tAdYVWJQM",
        "colab_type": "code",
        "colab": {}
      },
      "source": [
        "TaskRegistry = t5.data.TaskRegistry\n",
        "TfdsTask = t5.data.TfdsTask\n",
        "\n",
        "t5.data.TaskRegistry.remove('comments')\n",
        "t5.data.TaskRegistry.add(\n",
        "    \"comments\",\n",
        "    dataset_fn=nq_dataset_comment,\n",
        "    splits=[\"train\", \"validation\"],\n",
        "    text_preprocessor=[preprocessing_comment],\n",
        "    output_features=FEATURES,\n",
        "    metric_fns=[t5.evaluation.metrics.bleu, t5.evaluation.metrics.rouge],\n",
        "    num_input_examples = num_nq_examples_comment\n",
        ")"
      ],
      "execution_count": null,
      "outputs": []
    },
    {
      "cell_type": "code",
      "metadata": {
        "id": "QVTZH78jXrTS",
        "colab_type": "code",
        "colab": {}
      },
      "source": [
        "nq_task = t5.data.TaskRegistry.get(\"comments\")\n",
        "ds = nq_task.get_dataset(split=\"train\", sequence_length={\"inputs\": 512, \"targets\": 512})\n",
        "print(\"A few preprocessed training examples...\")\n",
        "for ex in tfds.as_numpy(ds.take(5)):\n",
        "  print(ex)\n",
        "\n",
        "#SIXTH TASK CREATED"
      ],
      "execution_count": null,
      "outputs": []
    },
    {
      "cell_type": "code",
      "metadata": {
        "colab_type": "code",
        "id": "cz1a1TxFNKmx",
        "colab": {}
      },
      "source": [
        "#The following function implements proportional sampling\n",
        "#Here the idea is to create batches according to the dataset size wrt the each task\n",
        "#By doing so, we should be able to cope with overfitting\n",
        "\n",
        "def _rate_num_input_examples(task):\n",
        "  if \"train\" in task.splits:\n",
        "    return float(task.num_input_examples(\"train\"))\n",
        "  elif \"validation\" in task.splits:\n",
        "    return float(task.num_input_examples(\"validation\"))\n",
        "  else:\n",
        "    raise ValueError(\"Task %s does not have a train or validation split.\" % (task.name))\n",
        "\n",
        "\n",
        "t5.data.MixtureRegistry.remove(\"all_tasks\")\n",
        "t5.data.MixtureRegistry.add(\n",
        "    \"all_tasks\",\n",
        "    [\"bfp_small\", \"bfp_medium\", \"assert_abt\", \"assert_raw\", \"mutants\",\"comments\"],\n",
        "    default_rate=_rate_num_input_examples\n",
        "     #default_rate=1.0\n",
        ")"
      ],
      "execution_count": null,
      "outputs": []
    },
    {
      "cell_type": "code",
      "metadata": {
        "colab_type": "code",
        "id": "_3Qx699vN302",
        "colab": {}
      },
      "source": [
        "from mesh_tensorflow.transformer import learning_rate_schedules\n",
        "\n",
        "\n",
        "MODEL_SIZE = \"small\" \n",
        "\n",
        "# Set the folder where the checkpoints and all the others information will be writed\n",
        "MODEL_DIR = 'gs://bucket_thesis_dl4se/models/'\n",
        "\n",
        "# Specify the pre-trained dir which must contain the pre-trained models, the operative_config.gin file and the checkpoint file as well\n",
        "#PRETRAINED_DIR='gs://bucket_thesis_dl4se/models/pretrained_model/'\n",
        "\n",
        "\n",
        "model_parallelism, train_batch_size, keep_checkpoint_max = {\n",
        "    \"small\": (1, 256, 16),\n",
        "    \"base\": (2, 128, 8),\n",
        "    \"large\": (8, 64, 4),\n",
        "    \"3B\": (8, 16, 1),\n",
        "    \"11B\": (8, 16, 1)}[MODEL_SIZE]\n",
        "\n",
        "tf.io.gfile.makedirs(MODEL_DIR)\n",
        "\n",
        "model = t5.models.MtfModel(\n",
        "    model_dir=MODEL_DIR,\n",
        "    tpu=TPU_ADDRESS,\n",
        "    tpu_topology=TPU_TOPOLOGY,\n",
        "    model_parallelism=model_parallelism,\n",
        "    batch_size=train_batch_size,\n",
        "    sequence_length={\"inputs\": 512, \"targets\": 512},\n",
        "    learning_rate_schedule=learning_rate_schedules.slanted_triangular,\n",
        "    save_checkpoints_steps=5000,\n",
        "    keep_checkpoint_max=keep_checkpoint_max if ON_CLOUD else None,\n",
        "    iterations_per_loop=100,\n",
        ")"
      ],
      "execution_count": null,
      "outputs": []
    },
    {
      "cell_type": "code",
      "metadata": {
        "colab_type": "code",
        "id": "6oHp5ScE7nf2",
        "colab": {}
      },
      "source": [
        "#RUN FINE-TUNING\n",
        "FINETUNE_STEPS = 2000000\n",
        "\n",
        "model.finetune(\n",
        "    mixture_or_task_name=\"all_tasks\",\n",
        "    pretrained_model_dir=MODEL_DIR,\n",
        "    finetune_steps=FINETUNE_STEPS\n",
        ")"
      ],
      "execution_count": null,
      "outputs": []
    },
    {
      "cell_type": "code",
      "metadata": {
        "id": "NAo_rui4HXcT",
        "colab_type": "code",
        "colab": {}
      },
      "source": [
        "# Use a larger batch size for evaluation, which requires less memory.\n",
        "model.batch_size = train_batch_size * 4\n",
        "model.eval(\n",
        "    mixture_or_task_name=\"all_tasks\",\n",
        "    checkpoint_steps=-1 #evaluate only last checkpoint\n",
        ")"
      ],
      "execution_count": null,
      "outputs": []
    },
    {
      "cell_type": "code",
      "metadata": {
        "colab_type": "code",
        "id": "fTr15bwE6YY-",
        "colab": {}
      },
      "source": [
        "if ON_CLOUD:\n",
        "  %reload_ext tensorboard\n",
        "  import tensorboard as tb\n",
        "tb.notebook.start(\"--logdir \" + MODEL_DIR)"
      ],
      "execution_count": null,
      "outputs": []
    },
    {
      "cell_type": "code",
      "metadata": {
        "colab_type": "code",
        "id": "bBXTPr0ke04I",
        "colab": {}
      },
      "source": [
        ""
      ],
      "execution_count": null,
      "outputs": []
    }
  ]
}