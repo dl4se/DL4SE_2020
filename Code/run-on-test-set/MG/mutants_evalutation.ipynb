{
  "nbformat": 4,
  "nbformat_minor": 0,
  "metadata": {
    "colab": {
      "name": "mutants_evalutation.ipynb",
      "provenance": [],
      "collapsed_sections": []
    },
    "kernelspec": {
      "name": "python3",
      "display_name": "Python 3"
    }
  },
  "cells": [
    {
      "cell_type": "code",
      "metadata": {
        "id": "PPos62tO3tDZ",
        "colab_type": "code",
        "colab": {}
      },
      "source": [
        "# Load Tensorflow results:\n",
        "#\n",
        "#   [+] mutant_input file\n",
        "#   [+] mutant_target file\n",
        "#   [+] mutant_predictions file\n",
        "#\n",
        "# Then compute the perfect predictions and mutated predictions score.\n"
      ],
      "execution_count": null,
      "outputs": []
    },
    {
      "cell_type": "code",
      "metadata": {
        "id": "zXKzO_DR3wWq",
        "colab_type": "code",
        "colab": {}
      },
      "source": [
        "fixed_methods = []\n",
        "\n",
        "with open('/content/models-base_eval-validation_eval-mutant_inputs','r') as finput:\n",
        "    lines = finput.readlines()\n",
        "    for line in lines:\n",
        "        line=line.replace('\\n','')\n",
        "        fixed_methods.append(line[20:-2])\n",
        "\n",
        "fixed_methods[0:5]\n"
      ],
      "execution_count": null,
      "outputs": []
    },
    {
      "cell_type": "code",
      "metadata": {
        "id": "1uN5n4px33T1",
        "colab_type": "code",
        "colab": {}
      },
      "source": [
        "references = []\n",
        "\n",
        "with open('/content/mutant_targets.txt','r') as f:\n",
        "    lines=f.readlines()\n",
        "    for item in lines:\n",
        "        item=item.replace('\\n','')\n",
        "        if len(item)>2:\n",
        "            if item[0]=='\"':\n",
        "                item = item[1:]\n",
        "            if item[-1]=='\"':\n",
        "                item = item[:-1]\n",
        "        references.append(item)\n",
        "\n",
        "references[0:5]"
      ],
      "execution_count": null,
      "outputs": []
    },
    {
      "cell_type": "code",
      "metadata": {
        "id": "wShg0d3k4CXn",
        "colab_type": "code",
        "colab": {}
      },
      "source": [
        "predictions=[]\n",
        "with open('/content/mutant_1443500_predictions.txt','r') as f:\n",
        "    lines=f.readlines()\n",
        "    for item in lines:\n",
        "        item=item.replace('\\n','')\n",
        "        if len(item)>2:\n",
        "            if item[0]=='\"':\n",
        "                item = item[1:]\n",
        "            if item[-1]=='\"':\n",
        "                item = item[:-1]\n",
        "        predictions.append(item)  \n",
        "        \n",
        "predictions[0:5]"
      ],
      "execution_count": null,
      "outputs": []
    },
    {
      "cell_type": "code",
      "metadata": {
        "id": "YbKWUziP4Dui",
        "colab_type": "code",
        "colab": {
          "base_uri": "https://localhost:8080/",
          "height": 68
        },
        "outputId": "5aa8f327-e2e9-4441-92d3-875f3570acfe"
      },
      "source": [
        "#MUTANTS EVALUATION\n",
        "\n",
        "bad_pred = 0\n",
        "perfect_prediction = 0\n",
        "mutated_pred = 0\n",
        "\n",
        "\n",
        "\n",
        "mutated_methods = []\n",
        "perfect_prediction_list = []\n",
        "bad_pred_list = []\n",
        "\n",
        "idx = 0\n",
        "\n",
        "\n",
        "for ( fixed_method, mutant ) in zip(fixed_methods, references):\n",
        "        \n",
        "        pred_item = predictions[idx].strip('\"')\n",
        "\n",
        "        if mutant == pred_item:\n",
        "            perfect_prediction_list.append(pred_item)\n",
        "            perfect_prediction+=1\n",
        "\n",
        "        elif fixed_method == pred_item:\n",
        "            bad_pred_list.append(pred_item)\n",
        "            bad_pred +=1\n",
        "\n",
        "        else:\n",
        "            mutated_methods.append(pred_item) \n",
        "            mutated_pred += 1\n",
        "\n",
        "        idx += 1 \n",
        "        \n",
        "\n",
        "print(\"Perfect predictions: \", (perfect_prediction/(len(predictions)) * 100 ))\n",
        "print(\"Mutated methods: \", (mutated_pred/(len(predictions)) * 100))\n",
        "print(\"Bad predictions: \", (bad_pred/(len(predictions)) * 100))\n",
        "\n"
      ],
      "execution_count": null,
      "outputs": [
        {
          "output_type": "stream",
          "text": [
            "Perfect predictions:  30.841768319058744\n",
            "Mutated methods:  67.7221212907691\n",
            "Bad predictions:  1.4361103901721601\n"
          ],
          "name": "stdout"
        }
      ]
    },
    {
      "cell_type": "code",
      "metadata": {
        "id": "L6rrVfKV4D0Y",
        "colab_type": "code",
        "colab": {}
      },
      "source": [
        "with open('mutated_predictions.txt','w') as fwrite:\n",
        "    for item in mutated_methods:\n",
        "        fwrite.write(item+'\\n')"
      ],
      "execution_count": null,
      "outputs": []
    },
    {
      "cell_type": "code",
      "metadata": {
        "id": "HUHixVsB4YDw",
        "colab_type": "code",
        "colab": {}
      },
      "source": [
        ""
      ],
      "execution_count": null,
      "outputs": []
    }
  ]
}