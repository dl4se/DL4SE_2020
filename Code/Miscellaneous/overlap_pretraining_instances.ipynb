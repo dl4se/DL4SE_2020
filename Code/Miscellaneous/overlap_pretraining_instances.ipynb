{
 "cells": [
  {
   "cell_type": "code",
   "execution_count": null,
   "metadata": {},
   "outputs": [],
   "source": [
    "import pandas as pd\n",
    "pt_data = pd.read_csv('/Users/antonio/Desktop/T5_project/datasets/pre-training/pre-training.tsv',sep='\\t',header=None)"
   ]
  },
  {
   "cell_type": "code",
   "execution_count": 2,
   "metadata": {},
   "outputs": [],
   "source": [
    "import re\n",
    "\n",
    "def flatten(string):\n",
    "    string = string.strip()\n",
    "    string = re.sub('\\s+',' ',string)\n",
    "    return string\n",
    "\n",
    "input_item_flatten = []\n",
    "input_item_vanilla = []\n",
    "\n",
    "for item in pt_data[0]:\n",
    "    \n",
    "#     input_item_vanilla.append(item)\n",
    "    \n",
    "    item = item.strip()\n",
    "    item = flatten(item.lower())\n",
    "    \n",
    "    joined_item = ''.join(item.split())\n",
    "    input_item_flatten.append(joined_item)\n"
   ]
  },
  {
   "cell_type": "code",
   "execution_count": 3,
   "metadata": {},
   "outputs": [],
   "source": [
    "pt_set_flatten = set(input_item_flatten)"
   ]
  },
  {
   "cell_type": "code",
   "execution_count": 4,
   "metadata": {},
   "outputs": [
    {
     "name": "stdout",
     "output_type": "stream",
     "text": [
      "Overlapping:  0\n"
     ]
    }
   ],
   "source": [
    "#### HERE WE COMPUTE THE OVERLAPPING INSTANCES AGAINST THE PRE_TRAINING DATASET ####\n",
    "\n",
    "\n",
    "#### BFsmall #####\n",
    "\n",
    "input_list = []\n",
    "output_list = []\n",
    "both = []\n",
    "\n",
    "bfsmall = pd.read_csv('/Users/antonio/Desktop/T5_project/datasets/fine-tuning/BFsmall/test.tsv',sep='\\t',header=None)\n",
    "\n",
    "for x,y in zip(bfsmall[0],bfsmall[1]):\n",
    "    \n",
    "    x = x.strip()\n",
    "    x = flatten(x.lower())\n",
    "    \n",
    "    y = y.strip()\n",
    "    y = flatten(y.lower())\n",
    "    \n",
    "    joined_x = ''.join(x.split())\n",
    "    joined_y = ''.join(y.split())\n",
    "    \n",
    "    input_list.append(joined_x)\n",
    "    output_list.append(joined_y)\n",
    "    \n",
    "    both.append(joined_x)\n",
    "    both.append(joined_y)\n",
    "\n",
    "set_both = set(both)\n",
    "BFsmall_intersected = len(pt_set_flatten.intersection(set_both))\n",
    "print('Overlapping: ',BFsmall_intersected)"
   ]
  },
  {
   "cell_type": "code",
   "execution_count": 5,
   "metadata": {},
   "outputs": [
    {
     "name": "stdout",
     "output_type": "stream",
     "text": [
      "Overlapping:  2\n"
     ]
    }
   ],
   "source": [
    "#### BFmedium #####\n",
    "\n",
    "input_list = []\n",
    "output_list = []\n",
    "both = []\n",
    "\n",
    "bfmedium = pd.read_csv('/Users/antonio/Desktop/T5_project/datasets/fine-tuning/BFmedium/test.tsv',sep='\\t',header=None)\n",
    "\n",
    "for x,y in zip(bfmedium[0],bfmedium[1]):\n",
    "    \n",
    "    x = x.strip()\n",
    "    x = flatten(x.lower())\n",
    "    \n",
    "    y = y.strip()\n",
    "    y = flatten(y.lower())\n",
    "    \n",
    "    joined_x = ''.join(x.split())\n",
    "    joined_y = ''.join(y.split())\n",
    "    \n",
    "    input_list.append(joined_x)\n",
    "    output_list.append(joined_y)\n",
    "    \n",
    "    both.append(joined_x)\n",
    "    both.append(joined_y)\n",
    "\n",
    "set_both = set(both)\n",
    "BFmedium_intersected = len(pt_set_flatten.intersection(set_both))\n",
    "print('Overlapping: ',BFmedium_intersected)"
   ]
  },
  {
   "cell_type": "code",
   "execution_count": 6,
   "metadata": {},
   "outputs": [
    {
     "name": "stdout",
     "output_type": "stream",
     "text": [
      "Overlapping:  0\n"
     ]
    }
   ],
   "source": [
    "#### AGabs #####\n",
    "\n",
    "input_list = []\n",
    "output_list = []\n",
    "both = []\n",
    "\n",
    "agabs = pd.read_csv('/Users/antonio/Desktop/T5_project/datasets/fine-tuning/AGabs/test.tsv',sep='\\t',header=None)\n",
    "\n",
    "for x,y in zip(agabs[0],agabs[1]):\n",
    "    \n",
    "    x = x.strip()\n",
    "    x = flatten(x.lower())\n",
    "    \n",
    "    y = y.strip()\n",
    "    y = flatten(y.lower())\n",
    "    \n",
    "    joined_x = ''.join(x.split())\n",
    "    joined_y = ''.join(y.split())\n",
    "    \n",
    "    input_list.append(joined_x)\n",
    "    output_list.append(joined_y)\n",
    "    \n",
    "    both.append(joined_x)\n",
    "    both.append(joined_y)\n",
    "\n",
    "set_both = set(both)\n",
    "AGabs_intersected = len(pt_set_flatten.intersection(set_both))\n",
    "print('Overlapping: ',AGabs_intersected)"
   ]
  },
  {
   "cell_type": "code",
   "execution_count": 7,
   "metadata": {},
   "outputs": [
    {
     "name": "stdout",
     "output_type": "stream",
     "text": [
      "Overlapping:  0\n"
     ]
    }
   ],
   "source": [
    "#### AGraw #####\n",
    "\n",
    "input_list = []\n",
    "output_list = []\n",
    "both = []\n",
    "\n",
    "agraw = pd.read_csv('/Users/antonio/Desktop/T5_project/datasets/fine-tuning/AGraw/test.tsv',sep='\\t',header=None)\n",
    "\n",
    "for x,y in zip(agraw[0],agraw[1]):\n",
    "    \n",
    "    x = x.strip()\n",
    "    x = flatten(x.lower())\n",
    "    \n",
    "    y = y.strip()\n",
    "    y = flatten(y.lower())\n",
    "    \n",
    "    joined_x = ''.join(x.split())\n",
    "    joined_y = ''.join(y.split())\n",
    "    \n",
    "    input_list.append(joined_x)\n",
    "    output_list.append(joined_y)\n",
    "    \n",
    "    both.append(joined_x)\n",
    "    both.append(joined_y)\n",
    "\n",
    "set_both = set(both)\n",
    "AGraw_intersected = len(pt_set_flatten.intersection(set_both))\n",
    "print('Overlapping: ',AGraw_intersected)"
   ]
  },
  {
   "cell_type": "code",
   "execution_count": 8,
   "metadata": {},
   "outputs": [
    {
     "name": "stdout",
     "output_type": "stream",
     "text": [
      "Overlapping:  1\n"
     ]
    }
   ],
   "source": [
    "##### MG ######\n",
    "\n",
    "\n",
    "input_list = []\n",
    "output_list = []\n",
    "both = []\n",
    "\n",
    "mg = pd.read_csv('/Users/antonio/Desktop/T5_project/datasets/fine-tuning/MG/test.tsv',sep='\\t',header=None)\n",
    "\n",
    "for x,y in zip(mg[0],mg[1]):\n",
    "    \n",
    "    x = x.strip()\n",
    "    x = flatten(x.lower())\n",
    "    \n",
    "    y = y.strip()\n",
    "    y = flatten(y.lower())\n",
    "    \n",
    "    joined_x = ''.join(x.split())\n",
    "    joined_y = ''.join(y.split())\n",
    "    \n",
    "    input_list.append(joined_x)\n",
    "    output_list.append(joined_y)\n",
    "    \n",
    "    both.append(joined_x)\n",
    "    both.append(joined_y)\n",
    "\n",
    "set_both = set(both)\n",
    "MG_intersected = len(pt_set_flatten.intersection(set_both))\n",
    "print('Overlapping: ',MG_intersected)"
   ]
  },
  {
   "cell_type": "code",
   "execution_count": 9,
   "metadata": {},
   "outputs": [
    {
     "name": "stdout",
     "output_type": "stream",
     "text": [
      "Overlapping:  147\n"
     ]
    }
   ],
   "source": [
    "##### CS ######\n",
    "\n",
    "input_list = []\n",
    "output_list = []\n",
    "both = []\n",
    "\n",
    "cs = pd.read_csv('/Users/antonio/Desktop/T5_project/datasets/fine-tuning/CS/test.tsv',sep='\\t',header=None)\n",
    "\n",
    "for x,y in zip(cs[0],cs[1]):\n",
    "    \n",
    "    x = x.strip()\n",
    "    x = flatten(x.lower())\n",
    "    \n",
    "    y = y.strip()\n",
    "    y = flatten(y.lower())\n",
    "    \n",
    "    joined_x = ''.join(x.split())\n",
    "    joined_y = ''.join(y.split())\n",
    "    \n",
    "    input_list.append(joined_x)\n",
    "    output_list.append(joined_y)\n",
    "    \n",
    "    both.append(joined_x)\n",
    "    both.append(joined_y)\n",
    "\n",
    "set_both = set(both)\n",
    "CS_intersected = len(pt_set_flatten.intersection(set_both))\n",
    "print('Overlapping: ',CS_intersected)"
   ]
  },
  {
   "cell_type": "code",
   "execution_count": null,
   "metadata": {},
   "outputs": [],
   "source": []
  }
 ],
 "metadata": {
  "kernelspec": {
   "display_name": "Python 3",
   "language": "python",
   "name": "python3"
  },
  "language_info": {
   "codemirror_mode": {
    "name": "ipython",
    "version": 3
   },
   "file_extension": ".py",
   "mimetype": "text/x-python",
   "name": "python",
   "nbconvert_exporter": "python",
   "pygments_lexer": "ipython3",
   "version": "3.8.3"
  }
 },
 "nbformat": 4,
 "nbformat_minor": 4
}
